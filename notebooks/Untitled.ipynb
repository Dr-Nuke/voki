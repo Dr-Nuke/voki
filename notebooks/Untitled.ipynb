{
 "cells": [
  {
   "cell_type": "markdown",
   "id": "9597e4d5-e461-4180-a067-ecbb7fb67a01",
   "metadata": {},
   "source": [
    "# my voki tester notebook"
   ]
  },
  {
   "cell_type": "code",
   "execution_count": 87,
   "id": "eae12cd3-3039-4a43-b4aa-0f60488b3dab",
   "metadata": {},
   "outputs": [],
   "source": [
    "import datetime\n",
    "import numpy as np\n",
    "import pandas as pd\n",
    "from pathlib import Path"
   ]
  },
  {
   "cell_type": "code",
   "execution_count": 114,
   "id": "22bebbc3-e168-4517-92dd-c4bb11ecccf7",
   "metadata": {},
   "outputs": [],
   "source": [
    "class card:\n",
    "    # a class for vocabulary cards\n",
    "\n",
    "    def __init__(self, props):\n",
    "        # the basic card that has typical properties of a vocabulary card\n",
    "        self.french_phrase = props['french']['phrase']\n",
    "        self.french_sentences =      props['french']['sentences']\n",
    "        self.french_comments = props['french']['comments']\n",
    "        self.german_phrase = props['german']['phrase']\n",
    "        self.german_sentences = props['german']['sentences']\n",
    "        self.german_comments = props['german']['comments']\n",
    "\n",
    "        self.created = datetime.datetime.now().replace(microsecond=0)\n",
    "        self.attempt_history = pd.DataFrame({'time': pd.Series(dtype='datetime64[ns]'),\n",
    "                                             'result': pd.Series(dtype='bool'),\n",
    "                                             'answer': pd.Series(dtype='str')})\n",
    "        self.id = hash(self.french_phrase)\n",
    "        self.streak = 0\n",
    "\n",
    "    def attempt(self, guess):\n",
    "        now = datetime.datetime.now().replace(microsecond=0)\n",
    "        result = self.check_attempt(guess) #true/False\n",
    "\n",
    "        self.attempt_history = self.attempt_history.append(pd.DataFrame({'time': [now], \n",
    "                                                                        'result': [result], \n",
    "                                                                        'answer': [guess]}))\n",
    "        if result:\n",
    "            self.streak += 1\n",
    "        else:\n",
    "            self.streak = np.floor(self.streak/2)\n",
    "\n",
    "    def check_attempt(self,answer):\n",
    "        if answer == self.french_phrase:\n",
    "            return True\n",
    "        text = input(f'type \"yes\" if you think they match:\\n {answer} \\n {self.french_phrase}\\n')\n",
    "        if text == 'yes':\n",
    "            return True\n",
    "        return False\n",
    "    def __repr__(self):\n",
    "        \n",
    "        if len(self.attempt_history)>0:\n",
    "            last_attempt = ''\n",
    "        str_ = f\"\"\"voki card \n",
    "        {self.id}\n",
    "        french: {self.french_phrase}\n",
    "        german: {self.german_phrase} \n",
    "        last_attempt: \"\"\"\n",
    "        return str_\n",
    "    \n",
    "    \n",
    "    def to_df(vcard):\n",
    "    # transform a card into a \n",
    "        df_dict = {'french_phrase': [vcard.french_phrase],\n",
    "                   'french_sentences' : [vcard.french_sentences],\n",
    "                   'french_comments': [vcard.french_comments],\n",
    "                   'german_phrase': [vcard.german_phrase],\n",
    "                   'german_sentences': [vcard.german_sentences],\n",
    "                   'created': [vcard.created],\n",
    "                   'attempt_history': [vcard.attempt_history],\n",
    "                   'id' : [vcard.id],\n",
    "                   'streak': [vcard.streak]}\n",
    "        return df_dict\n",
    "\n",
    "    @staticmethod\n",
    "    def get_card_from_db(db,id):\n",
    "        pass\n",
    "\n",
    "\n",
    "class vokibox():\n",
    "    def __init__(self): # box_db,voki_db\n",
    "        self.levels={i: [] for i in range(6)}\n",
    "        pass\n",
    "    \n",
    "    def onboard_card(self,card):\n",
    "        self.levels[0].append(card.id)\n",
    "        \n",
    "    def attempt(i):\n",
    "        # attempt the next card in vokibox level i\n",
    "        \n",
    "        if len(self.levels[i]==0):\n",
    "            print(f'vokibox lvl {i} is empty. you need to fill it first')\n",
    "            return\n",
    "        \n",
    "        mycard = self.levels[i].pop(0)\n",
    "        pass\n",
    "        \n",
    "        \n",
    "def main(dbfile):\n",
    "    #1 laod database\n",
    "    #2 run program\n",
    "    #3 save databas\n",
    "    pass"
   ]
  },
  {
   "cell_type": "code",
   "execution_count": 115,
   "id": "ea0d94c7-ed6e-4dea-aefc-ddfd7b2e6c6a",
   "metadata": {},
   "outputs": [],
   "source": [
    "card_1_properties = {'french':{'phrase': 'partout', \n",
    "                               'sentences': ['Dans la rue du Sentier, la mode est partout.'],\n",
    "                               'comments':[]},\n",
    "                     'german':{'phrase':'überall',\n",
    "                               'sentences':[],\n",
    "                               'comments':[]},\n",
    "                    }\n",
    "                     \n",
    "card_2_properties = {'french':{'phrase': 'la rue', \n",
    "                               'sentences': ['Julien habite dans la rue Daguerre.'],\n",
    "                               'comments':[]},\n",
    "                     'german':{'phrase':'Strasse',\n",
    "                               'sentences':[],\n",
    "                               'comments':[]},\n",
    "                    }   "
   ]
  },
  {
   "cell_type": "code",
   "execution_count": 116,
   "id": "47eecce0-b791-4196-af51-a8345551abb1",
   "metadata": {},
   "outputs": [
    {
     "data": {
      "text/plain": [
       "voki card \n",
       "        4016489955876169260\n",
       "        french: partout\n",
       "        german: überall \n",
       "        last_attempt: "
      ]
     },
     "execution_count": 116,
     "metadata": {},
     "output_type": "execute_result"
    }
   ],
   "source": [
    "voki_card1=card(card_1_properties)\n",
    "voki_card1"
   ]
  },
  {
   "cell_type": "code",
   "execution_count": 117,
   "id": "2f089e0e-681e-4732-b494-3b9d21aba741",
   "metadata": {},
   "outputs": [
    {
     "data": {
      "text/plain": [
       "voki card \n",
       "        8465667296282286060\n",
       "        french: la rue\n",
       "        german: Strasse \n",
       "        last_attempt: "
      ]
     },
     "execution_count": 117,
     "metadata": {},
     "output_type": "execute_result"
    }
   ],
   "source": [
    "voki_card2=card(card_2_properties)\n",
    "voki_card2"
   ]
  },
  {
   "cell_type": "code",
   "execution_count": 91,
   "id": "4e14808b-5e1e-4bde-9674-f2557f91c9b6",
   "metadata": {},
   "outputs": [
    {
     "name": "stdin",
     "output_type": "stream",
     "text": [
      "type \"yes\" if you think they match:\n",
      " partout2 \n",
      " partout no\n"
     ]
    }
   ],
   "source": [
    "voki_card1.attempt('partout2'                  )\n"
   ]
  },
  {
   "cell_type": "code",
   "execution_count": 92,
   "id": "99b5d5c0-d080-425f-9fba-c53cee5abcb2",
   "metadata": {},
   "outputs": [
    {
     "data": {
      "text/html": [
       "<div>\n",
       "<style scoped>\n",
       "    .dataframe tbody tr th:only-of-type {\n",
       "        vertical-align: middle;\n",
       "    }\n",
       "\n",
       "    .dataframe tbody tr th {\n",
       "        vertical-align: top;\n",
       "    }\n",
       "\n",
       "    .dataframe thead th {\n",
       "        text-align: right;\n",
       "    }\n",
       "</style>\n",
       "<table border=\"1\" class=\"dataframe\">\n",
       "  <thead>\n",
       "    <tr style=\"text-align: right;\">\n",
       "      <th></th>\n",
       "      <th>time</th>\n",
       "      <th>result</th>\n",
       "      <th>answer</th>\n",
       "    </tr>\n",
       "  </thead>\n",
       "  <tbody>\n",
       "    <tr>\n",
       "      <th>0</th>\n",
       "      <td>2021-10-31 08:58:40</td>\n",
       "      <td>1.0</td>\n",
       "      <td>partout</td>\n",
       "    </tr>\n",
       "    <tr>\n",
       "      <th>0</th>\n",
       "      <td>2021-10-31 09:17:37</td>\n",
       "      <td>1.0</td>\n",
       "      <td>partout</td>\n",
       "    </tr>\n",
       "    <tr>\n",
       "      <th>0</th>\n",
       "      <td>2021-10-31 09:17:40</td>\n",
       "      <td>0.0</td>\n",
       "      <td>partout2</td>\n",
       "    </tr>\n",
       "  </tbody>\n",
       "</table>\n",
       "</div>"
      ],
      "text/plain": [
       "                 time  result    answer\n",
       "0 2021-10-31 08:58:40     1.0   partout\n",
       "0 2021-10-31 09:17:37     1.0   partout\n",
       "0 2021-10-31 09:17:40     0.0  partout2"
      ]
     },
     "execution_count": 92,
     "metadata": {},
     "output_type": "execute_result"
    }
   ],
   "source": [
    "voki_card1.attempt_history"
   ]
  },
  {
   "cell_type": "code",
   "execution_count": 85,
   "id": "1ce3f190-c91b-4afb-8050-8619a6d2442c",
   "metadata": {},
   "outputs": [
    {
     "data": {
      "text/html": [
       "<div>\n",
       "<style scoped>\n",
       "    .dataframe tbody tr th:only-of-type {\n",
       "        vertical-align: middle;\n",
       "    }\n",
       "\n",
       "    .dataframe tbody tr th {\n",
       "        vertical-align: top;\n",
       "    }\n",
       "\n",
       "    .dataframe thead th {\n",
       "        text-align: right;\n",
       "    }\n",
       "</style>\n",
       "<table border=\"1\" class=\"dataframe\">\n",
       "  <thead>\n",
       "    <tr style=\"text-align: right;\">\n",
       "      <th></th>\n",
       "      <th>french_phrase</th>\n",
       "      <th>french_sentences</th>\n",
       "      <th>french_comments</th>\n",
       "      <th>german_phrase</th>\n",
       "      <th>german_sentences</th>\n",
       "      <th>created</th>\n",
       "      <th>attempt_history</th>\n",
       "      <th>id</th>\n",
       "      <th>streak</th>\n",
       "    </tr>\n",
       "  </thead>\n",
       "  <tbody>\n",
       "    <tr>\n",
       "      <th>0</th>\n",
       "      <td>partout</td>\n",
       "      <td>[Dans la rue du Sentier, la mode est partout.]</td>\n",
       "      <td>[]</td>\n",
       "      <td>überall</td>\n",
       "      <td>[]</td>\n",
       "      <td>2021-10-31 08:58:38</td>\n",
       "      <td>time  result   answer\n",
       "0 2021-...</td>\n",
       "      <td>4016489955876169260</td>\n",
       "      <td>1</td>\n",
       "    </tr>\n",
       "  </tbody>\n",
       "</table>\n",
       "</div>"
      ],
      "text/plain": [
       "  french_phrase                                french_sentences  \\\n",
       "0       partout  [Dans la rue du Sentier, la mode est partout.]   \n",
       "\n",
       "  french_comments german_phrase german_sentences             created  \\\n",
       "0              []       überall               [] 2021-10-31 08:58:38   \n",
       "\n",
       "                                     attempt_history                   id  \\\n",
       "0                   time  result   answer\n",
       "0 2021-...  4016489955876169260   \n",
       "\n",
       "   streak  \n",
       "0       1  "
      ]
     },
     "execution_count": 85,
     "metadata": {},
     "output_type": "execute_result"
    }
   ],
   "source": [
    "pd.DataFrame(card_to_df(voki_card1))"
   ]
  },
  {
   "cell_type": "code",
   "execution_count": 37,
   "id": "04f71e9d-00cb-4a9d-87b3-de405dcd686c",
   "metadata": {},
   "outputs": [
    {
     "data": {
      "text/plain": [
       "1"
      ]
     },
     "execution_count": 37,
     "metadata": {},
     "output_type": "execute_result"
    }
   ],
   "source": [
    "1"
   ]
  },
  {
   "cell_type": "code",
   "execution_count": 38,
   "id": "b75dc13d-23ac-49b7-85c1-a06b30e47b10",
   "metadata": {},
   "outputs": [
    {
     "data": {
      "text/plain": [
       "'ujzgfuj'"
      ]
     },
     "execution_count": 38,
     "metadata": {},
     "output_type": "execute_result"
    }
   ],
   "source": [
    "'ujzgfuj'"
   ]
  },
  {
   "cell_type": "code",
   "execution_count": 39,
   "id": "f204c14a-b4b3-4338-a3ab-3de5c44f154a",
   "metadata": {},
   "outputs": [
    {
     "data": {
      "text/plain": [
       "__main__.card"
      ]
     },
     "execution_count": 39,
     "metadata": {},
     "output_type": "execute_result"
    }
   ],
   "source": [
    "card"
   ]
  },
  {
   "cell_type": "code",
   "execution_count": 51,
   "id": "8f3daac9-8956-4eb4-81d1-ae4c5cd2a7b4",
   "metadata": {},
   "outputs": [
    {
     "data": {
      "text/plain": [
       "3.0"
      ]
     },
     "execution_count": 51,
     "metadata": {},
     "output_type": "execute_result"
    }
   ],
   "source": [
    "np.floor(3.5)"
   ]
  },
  {
   "cell_type": "code",
   "execution_count": null,
   "id": "ba5bd18b-79e6-4c76-871e-07ab341ef3df",
   "metadata": {},
   "outputs": [],
   "source": []
  }
 ],
 "metadata": {
  "kernelspec": {
   "display_name": "Python 3",
   "language": "python",
   "name": "python3"
  },
  "language_info": {
   "codemirror_mode": {
    "name": "ipython",
    "version": 3
   },
   "file_extension": ".py",
   "mimetype": "text/x-python",
   "name": "python",
   "nbconvert_exporter": "python",
   "pygments_lexer": "ipython3",
   "version": "3.9.7"
  }
 },
 "nbformat": 4,
 "nbformat_minor": 5
}
