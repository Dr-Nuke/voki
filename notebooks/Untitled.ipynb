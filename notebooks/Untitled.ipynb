{
 "cells": [
  {
   "cell_type": "markdown",
   "id": "9597e4d5-e461-4180-a067-ecbb7fb67a01",
   "metadata": {},
   "source": [
    "# my voki tester notebook"
   ]
  },
  {
   "cell_type": "code",
   "execution_count": 1,
   "id": "eae12cd3-3039-4a43-b4aa-0f60488b3dab",
   "metadata": {},
   "outputs": [],
   "source": [
    "import datetime\n",
    "import numpy as np\n",
    "import pandas as pd\n",
    "import os\n",
    "from pathlib import Path\n",
    "import pickle\n",
    "import sys\n",
    "from hashlib import md5\n",
    "import pyvoki as vo\n",
    "import random"
   ]
  },
  {
   "cell_type": "markdown",
   "id": "86a9ac7d-6e93-474f-9234-de477d9b1eb9",
   "metadata": {},
   "source": [
    "## settings"
   ]
  },
  {
   "cell_type": "code",
   "execution_count": 2,
   "id": "58768adf-34cb-466e-9122-a54dc5d1fdcd",
   "metadata": {},
   "outputs": [],
   "source": [
    "# go to root\n",
    "root = Path('C:/coding/voki/')\n",
    "os.chdir(root)\n",
    "assert os.getcwd().endswith('voki'), f'The cwd is not \"voki\" but {os.getcwd()}'\n",
    "\n",
    "# make jupyter reload the package\n",
    "%load_ext autoreload\n",
    "%autoreload 2\n",
    "\n",
    "# set the seed for reproducable results\n",
    "np.random.seed(123)"
   ]
  },
  {
   "cell_type": "code",
   "execution_count": 3,
   "id": "dc6b1d24-24be-4289-aaaf-bde12432d86a",
   "metadata": {},
   "outputs": [],
   "source": [
    "N_LEVELS = 3\n",
    "MAX_BOX_CARDS = 5\n",
    "\n",
    "db_raw_fpath = root / 'data/voki_export_full_db.csv'\n",
    "db_raw = pd.read_csv(db_raw_fpath,sep=';')\n",
    "db_raw['book']=db_raw['file'].str.slice(start=31, stop=32).astype(int)\n",
    "db_raw.head(1)\n",
    "data_dir = root/ 'data'\n",
    "trainer_dir = root / 'db/v1/'"
   ]
  },
  {
   "cell_type": "code",
   "execution_count": 4,
   "id": "588e5192-251c-462d-9a39-3e186ae9aa2b",
   "metadata": {},
   "outputs": [
    {
     "data": {
      "text/plain": [
       "Voki Trainer with 3637 entries in db"
      ]
     },
     "execution_count": 4,
     "metadata": {},
     "output_type": "execute_result"
    }
   ],
   "source": [
    "box = vo.VokiBox(n=N_LEVELS, max_cards=MAX_BOX_CARDS)\n",
    "trainer = vo.VokiTrainer(db_raw,\n",
    "                          trainer_dir,\n",
    "                          n_levels=N_LEVELS,\n",
    "                          max_box_cards=MAX_BOX_CARDS,\n",
    "                          voki_box=box)\n",
    "trainer"
   ]
  },
  {
   "cell_type": "code",
   "execution_count": 5,
   "id": "3368e89b-c3ee-4364-83ab-54be212974f5",
   "metadata": {},
   "outputs": [],
   "source": [
    "trainer.box.fill(trainer.get_next_box_cards())"
   ]
  },
  {
   "cell_type": "code",
   "execution_count": 6,
   "id": "28d4be24-4822-41cb-b202-f3f3b777fe2a",
   "metadata": {},
   "outputs": [
    {
     "name": "stdout",
     "output_type": "stream",
     "text": [
      "Voki Box with 5/5 cards\n",
      "level 1\n",
      "    eine Lektion\n",
      "    eins\n",
      "    männl. Vorname; hier: Name eines Papageis\n",
      "    in\n",
      "    Hauptstadt Frankreichs\n",
      "level 2\n",
      "level 3\n"
     ]
    }
   ],
   "source": [
    "trainer.show_box()"
   ]
  },
  {
   "cell_type": "code",
   "execution_count": 7,
   "id": "1dc8b261-8409-40ec-a1f9-d00282425194",
   "metadata": {},
   "outputs": [
    {
     "name": "stdin",
     "output_type": "stream",
     "text": [
      "\"eine Lektion\":  une lecon\n"
     ]
    },
    {
     "name": "stdout",
     "output_type": "stream",
     "text": [
      "wrong. => \"une lecon\" != \"une leçon\"\n"
     ]
    },
    {
     "name": "stdin",
     "output_type": "stream",
     "text": [
      "\"eins\":  1 = un\n"
     ]
    },
    {
     "name": "stdout",
     "output_type": "stream",
     "text": [
      "correct!\n"
     ]
    },
    {
     "name": "stdin",
     "output_type": "stream",
     "text": [
      "\"männl. Vorname; hier: Name eines Papageis\":  arthur\n"
     ]
    },
    {
     "name": "stdout",
     "output_type": "stream",
     "text": [
      "wrong. => \"arthur\" != \"Arthur\"\n"
     ]
    },
    {
     "name": "stdin",
     "output_type": "stream",
     "text": [
      "\"in\":  á\n"
     ]
    },
    {
     "name": "stdout",
     "output_type": "stream",
     "text": [
      "wrong. => \"á\" != \"à\"\n"
     ]
    },
    {
     "name": "stdin",
     "output_type": "stream",
     "text": [
      "\"Hauptstadt Frankreichs\":  Paris\n"
     ]
    },
    {
     "name": "stdout",
     "output_type": "stream",
     "text": [
      "correct!\n"
     ]
    }
   ],
   "source": [
    "trainer.do_vokibox()"
   ]
  },
  {
   "cell_type": "code",
   "execution_count": 8,
   "id": "8f4e5449-20fd-4f56-85f7-5efbf2d2101e",
   "metadata": {},
   "outputs": [
    {
     "name": "stdout",
     "output_type": "stream",
     "text": [
      "Voki Box with 5/5 cards\n",
      "level 1\n",
      "    eine Lektion\n",
      "    männl. Vorname; hier: Name eines Papageis\n",
      "    in\n",
      "level 2\n",
      "    eins\n",
      "    Hauptstadt Frankreichs\n",
      "level 3\n"
     ]
    }
   ],
   "source": [
    "trainer.show_box()"
   ]
  },
  {
   "cell_type": "code",
   "execution_count": 9,
   "id": "15af0b78-42f2-4b68-8e69-5419a9759524",
   "metadata": {},
   "outputs": [
    {
     "name": "stdin",
     "output_type": "stream",
     "text": [
      "\"eins\":  1 = un\n"
     ]
    },
    {
     "name": "stdout",
     "output_type": "stream",
     "text": [
      "correct!\n"
     ]
    },
    {
     "name": "stdin",
     "output_type": "stream",
     "text": [
      "\"Hauptstadt Frankreichs\":  Paris\n"
     ]
    },
    {
     "name": "stdout",
     "output_type": "stream",
     "text": [
      "correct!\n"
     ]
    },
    {
     "name": "stdin",
     "output_type": "stream",
     "text": [
      "\"eine Lektion\":  une leçon\n"
     ]
    },
    {
     "name": "stdout",
     "output_type": "stream",
     "text": [
      "correct!\n"
     ]
    },
    {
     "name": "stdin",
     "output_type": "stream",
     "text": [
      "\"männl. Vorname; hier: Name eines Papageis\":  Arthur\n"
     ]
    },
    {
     "name": "stdout",
     "output_type": "stream",
     "text": [
      "correct!\n"
     ]
    },
    {
     "name": "stdin",
     "output_type": "stream",
     "text": [
      "\"in\":  à\n"
     ]
    },
    {
     "name": "stdout",
     "output_type": "stream",
     "text": [
      "correct!\n"
     ]
    }
   ],
   "source": [
    "trainer.do_vokibox()"
   ]
  },
  {
   "cell_type": "code",
   "execution_count": 10,
   "id": "56866c30-a8fa-4da3-a11b-8733e2a145c9",
   "metadata": {},
   "outputs": [
    {
     "name": "stdout",
     "output_type": "stream",
     "text": [
      "Voki Box with 5/5 cards\n",
      "level 1\n",
      "level 2\n",
      "    eine Lektion\n",
      "    männl. Vorname; hier: Name eines Papageis\n",
      "    in\n",
      "level 3\n",
      "    eins\n",
      "    Hauptstadt Frankreichs\n"
     ]
    }
   ],
   "source": [
    "trainer.show_box()"
   ]
  },
  {
   "cell_type": "code",
   "execution_count": 11,
   "id": "a31ed1dd-2b81-4399-933a-ada205cac078",
   "metadata": {},
   "outputs": [
    {
     "name": "stdin",
     "output_type": "stream",
     "text": [
      "\"eins\":  un\n"
     ]
    },
    {
     "name": "stdout",
     "output_type": "stream",
     "text": [
      "wrong. => \"un\" != \"1 = un\"\n"
     ]
    },
    {
     "name": "stdin",
     "output_type": "stream",
     "text": [
      "\"Hauptstadt Frankreichs\":  Paris\n"
     ]
    },
    {
     "name": "stdout",
     "output_type": "stream",
     "text": [
      "correct!\n"
     ]
    },
    {
     "name": "stdin",
     "output_type": "stream",
     "text": [
      "\"eine Lektion\":  une leçon\n"
     ]
    },
    {
     "name": "stdout",
     "output_type": "stream",
     "text": [
      "correct!\n"
     ]
    },
    {
     "name": "stdin",
     "output_type": "stream",
     "text": [
      "\"männl. Vorname; hier: Name eines Papageis\":  Arthur\n"
     ]
    },
    {
     "name": "stdout",
     "output_type": "stream",
     "text": [
      "correct!\n"
     ]
    },
    {
     "name": "stdin",
     "output_type": "stream",
     "text": [
      "\"in\":  à\n"
     ]
    },
    {
     "name": "stdout",
     "output_type": "stream",
     "text": [
      "correct!\n"
     ]
    }
   ],
   "source": [
    "trainer.do_vokibox()"
   ]
  },
  {
   "cell_type": "code",
   "execution_count": 12,
   "id": "b707c54a-884c-4ae3-9417-ce76f8fd10e3",
   "metadata": {},
   "outputs": [
    {
     "name": "stdout",
     "output_type": "stream",
     "text": [
      "Voki Box with 4/5 cards\n",
      "level 1\n",
      "    eins\n",
      "level 2\n",
      "level 3\n",
      "    eine Lektion\n",
      "    männl. Vorname; hier: Name eines Papageis\n",
      "    in\n"
     ]
    }
   ],
   "source": [
    "trainer.show_box()"
   ]
  },
  {
   "cell_type": "code",
   "execution_count": 13,
   "id": "85a213e3-2da7-4d8c-bf64-b6a19e591aae",
   "metadata": {},
   "outputs": [
    {
     "name": "stdin",
     "output_type": "stream",
     "text": [
      "\"eine Lektion\":  une leçon\n"
     ]
    },
    {
     "name": "stdout",
     "output_type": "stream",
     "text": [
      "correct!\n"
     ]
    },
    {
     "name": "stdin",
     "output_type": "stream",
     "text": [
      "\"männl. Vorname; hier: Name eines Papageis\":  Arthur\n"
     ]
    },
    {
     "name": "stdout",
     "output_type": "stream",
     "text": [
      "correct!\n"
     ]
    },
    {
     "name": "stdin",
     "output_type": "stream",
     "text": [
      "\"in\":  à\n"
     ]
    },
    {
     "name": "stdout",
     "output_type": "stream",
     "text": [
      "correct!\n"
     ]
    },
    {
     "name": "stdin",
     "output_type": "stream",
     "text": [
      "\"eins\":  1 = un\n"
     ]
    },
    {
     "name": "stdout",
     "output_type": "stream",
     "text": [
      "correct!\n"
     ]
    },
    {
     "name": "stdin",
     "output_type": "stream",
     "text": [
      "\"Guten Tag!\":  Bonjour!\n"
     ]
    },
    {
     "name": "stdout",
     "output_type": "stream",
     "text": [
      "correct!\n"
     ]
    }
   ],
   "source": [
    "trainer.do_vokibox()"
   ]
  },
  {
   "cell_type": "code",
   "execution_count": 14,
   "id": "16e367d0-709a-4c4d-b70e-2f362155ccde",
   "metadata": {},
   "outputs": [
    {
     "name": "stdout",
     "output_type": "stream",
     "text": [
      "Voki Box with 2/5 cards\n",
      "level 1\n",
      "level 2\n",
      "    eins\n",
      "    Guten Tag!\n",
      "level 3\n"
     ]
    }
   ],
   "source": [
    "trainer.show_box()"
   ]
  },
  {
   "cell_type": "code",
   "execution_count": 15,
   "id": "a48e1f00-50da-4eb9-8111-48174eee6a57",
   "metadata": {},
   "outputs": [
    {
     "name": "stderr",
     "output_type": "stream",
     "text": [
      "2022-02-27 21:03:36.995 | WARNING  | pyvoki.main:check_card_already_in_box:343 - Card fc6f4b16c99f0cbcb3e6f18e169df236 is already in this box at level 2\n"
     ]
    },
    {
     "name": "stdin",
     "output_type": "stream",
     "text": [
      "\"eins\":  1 = un\n"
     ]
    },
    {
     "name": "stdout",
     "output_type": "stream",
     "text": [
      "correct!\n"
     ]
    },
    {
     "name": "stdin",
     "output_type": "stream",
     "text": [
      "\"Guten Tag!\":  Bonjour!\n"
     ]
    },
    {
     "name": "stdout",
     "output_type": "stream",
     "text": [
      "correct!\n"
     ]
    },
    {
     "name": "stdin",
     "output_type": "stream",
     "text": [
      "\"eine Straße\":  une ru\n"
     ]
    },
    {
     "name": "stdout",
     "output_type": "stream",
     "text": [
      "\"une ru\" != \"une rue\"\n"
     ]
    },
    {
     "name": "stdin",
     "output_type": "stream",
     "text": [
      "\"das ist\":  c'est\n"
     ]
    },
    {
     "name": "stdout",
     "output_type": "stream",
     "text": [
      "correct!\n"
     ]
    }
   ],
   "source": [
    "trainer.do_vokibox()"
   ]
  },
  {
   "cell_type": "code",
   "execution_count": 16,
   "id": "a5040664-29f8-4c82-84e3-66cb38bee447",
   "metadata": {},
   "outputs": [
    {
     "name": "stdout",
     "output_type": "stream",
     "text": [
      "Voki Box with 4/5 cards\n",
      "level 1\n",
      "    eine Straße\n",
      "level 2\n",
      "    das ist\n",
      "level 3\n",
      "    eins\n",
      "    Guten Tag!\n"
     ]
    }
   ],
   "source": [
    "trainer.show_box()"
   ]
  },
  {
   "cell_type": "code",
   "execution_count": 6,
   "id": "40e35169-828e-4cce-a360-fee1b5e06dee",
   "metadata": {},
   "outputs": [
    {
     "data": {
      "text/plain": [
       "True"
      ]
     },
     "execution_count": 6,
     "metadata": {},
     "output_type": "execute_result"
    }
   ],
   "source": [
    "level = 4\n",
    "hash_ = trainer.db.iloc[0].name\n",
    "solution = trainer.db.loc[hash_]['text']\n",
    "trainer.box.onboard_card(hash_, level=level)\n"
   ]
  },
  {
   "cell_type": "code",
   "execution_count": 8,
   "id": "1c63ca28-727b-4f25-9156-59e9535d033b",
   "metadata": {},
   "outputs": [
    {
     "name": "stdin",
     "output_type": "stream",
     "text": [
      "eine Lektion une leçon\n"
     ]
    },
    {
     "name": "stdout",
     "output_type": "stream",
     "text": [
      "correct!\n"
     ]
    },
    {
     "data": {
      "text/plain": [
       "True"
      ]
     },
     "execution_count": 8,
     "metadata": {},
     "output_type": "execute_result"
    }
   ],
   "source": [
    "trainer.attempt_card_in_level(lvl=level)"
   ]
  },
  {
   "cell_type": "code",
   "execution_count": 26,
   "id": "47f0bbf3-2000-44fc-9bfb-4636a3967a0d",
   "metadata": {},
   "outputs": [
    {
     "data": {
      "text/plain": [
       "['2ced79c45d1ccdbdd2e01726d87e1dae',\n",
       " '66932ff7f2834ad68c9a9dbfa393d3ec',\n",
       " 'c0b716ccc9c4912796f42843354f270b',\n",
       " 'fc6f4b16c99f0cbcb3e6f18e169df236']"
      ]
     },
     "execution_count": 26,
     "metadata": {},
     "output_type": "execute_result"
    }
   ],
   "source": [
    "b = trainer.box.get_all_cards()\n",
    "b"
   ]
  },
  {
   "cell_type": "code",
   "execution_count": 24,
   "id": "dc448b20-9108-4c50-8a16-389b04d11d7d",
   "metadata": {
    "collapsed": true,
    "jupyter": {
     "outputs_hidden": true
    },
    "tags": []
   },
   "outputs": [
    {
     "data": {
      "text/html": [
       "<div>\n",
       "<style scoped>\n",
       "    .dataframe tbody tr th:only-of-type {\n",
       "        vertical-align: middle;\n",
       "    }\n",
       "\n",
       "    .dataframe tbody tr th {\n",
       "        vertical-align: top;\n",
       "    }\n",
       "\n",
       "    .dataframe thead th {\n",
       "        text-align: right;\n",
       "    }\n",
       "</style>\n",
       "<table border=\"1\" class=\"dataframe\">\n",
       "  <thead>\n",
       "    <tr style=\"text-align: right;\">\n",
       "      <th></th>\n",
       "      <th>text</th>\n",
       "      <th>text_g</th>\n",
       "      <th>text_s</th>\n",
       "      <th>y_max</th>\n",
       "      <th>page</th>\n",
       "      <th>file</th>\n",
       "      <th>book</th>\n",
       "      <th>attempts</th>\n",
       "      <th>streak</th>\n",
       "      <th>last_attempt_time</th>\n",
       "      <th>last_successful_attempt_time</th>\n",
       "      <th>passed_vokibox</th>\n",
       "      <th>box_shortlisted</th>\n",
       "    </tr>\n",
       "    <tr>\n",
       "      <th>hash</th>\n",
       "      <th></th>\n",
       "      <th></th>\n",
       "      <th></th>\n",
       "      <th></th>\n",
       "      <th></th>\n",
       "      <th></th>\n",
       "      <th></th>\n",
       "      <th></th>\n",
       "      <th></th>\n",
       "      <th></th>\n",
       "      <th></th>\n",
       "      <th></th>\n",
       "      <th></th>\n",
       "    </tr>\n",
       "  </thead>\n",
       "  <tbody>\n",
       "    <tr>\n",
       "      <th>fc6f4b16c99f0cbcb3e6f18e169df236</th>\n",
       "      <td>Bonjour!</td>\n",
       "      <td>Guten Tag!</td>\n",
       "      <td>~, Arthur!</td>\n",
       "      <td>1171</td>\n",
       "      <td>2</td>\n",
       "      <td>C:\\coding\\voki\\data\\SerieVertes1.pdf</td>\n",
       "      <td>1</td>\n",
       "      <td>[Successful attempt at 2022-02-27 21:02:47: \"B...</td>\n",
       "      <td>2</td>\n",
       "      <td>2022-02-27 21:04:41</td>\n",
       "      <td>2022-02-27 21:04:41</td>\n",
       "      <td>False</td>\n",
       "      <td>NaN</td>\n",
       "    </tr>\n",
       "    <tr>\n",
       "      <th>2ced79c45d1ccdbdd2e01726d87e1dae</th>\n",
       "      <td>une rue</td>\n",
       "      <td>eine Straße</td>\n",
       "      <td>nan</td>\n",
       "      <td>1192</td>\n",
       "      <td>2</td>\n",
       "      <td>C:\\coding\\voki\\data\\SerieVertes1.pdf</td>\n",
       "      <td>1</td>\n",
       "      <td>[Failed attempt at 2022-02-27 21:04:47: \"une ru\"]</td>\n",
       "      <td>0</td>\n",
       "      <td>2022-02-27 21:04:47</td>\n",
       "      <td>NaN</td>\n",
       "      <td>False</td>\n",
       "      <td>NaN</td>\n",
       "    </tr>\n",
       "    <tr>\n",
       "      <th>66932ff7f2834ad68c9a9dbfa393d3ec</th>\n",
       "      <td>c'est</td>\n",
       "      <td>das ist</td>\n",
       "      <td>nan</td>\n",
       "      <td>1216</td>\n",
       "      <td>2</td>\n",
       "      <td>C:\\coding\\voki\\data\\SerieVertes1.pdf</td>\n",
       "      <td>1</td>\n",
       "      <td>[Successful attempt at 2022-02-27 21:04:51: \"c...</td>\n",
       "      <td>1</td>\n",
       "      <td>2022-02-27 21:04:51</td>\n",
       "      <td>2022-02-27 21:04:51</td>\n",
       "      <td>False</td>\n",
       "      <td>NaN</td>\n",
       "    </tr>\n",
       "    <tr>\n",
       "      <th>801dbee798c9ff4d905f7537f1fe0ded</th>\n",
       "      <td>monsieur ...</td>\n",
       "      <td>Herr ...</td>\n",
       "      <td>nan</td>\n",
       "      <td>1240</td>\n",
       "      <td>2</td>\n",
       "      <td>C:\\coding\\voki\\data\\SerieVertes1.pdf</td>\n",
       "      <td>1</td>\n",
       "      <td>[]</td>\n",
       "      <td>0</td>\n",
       "      <td>NaN</td>\n",
       "      <td>NaN</td>\n",
       "      <td>False</td>\n",
       "      <td>NaN</td>\n",
       "    </tr>\n",
       "    <tr>\n",
       "      <th>ad158daf1773b311a1a61929c9bf019b</th>\n",
       "      <td>Rigot</td>\n",
       "      <td>Familienname</td>\n",
       "      <td>nan</td>\n",
       "      <td>1264</td>\n",
       "      <td>2</td>\n",
       "      <td>C:\\coding\\voki\\data\\SerieVertes1.pdf</td>\n",
       "      <td>1</td>\n",
       "      <td>[]</td>\n",
       "      <td>0</td>\n",
       "      <td>NaN</td>\n",
       "      <td>NaN</td>\n",
       "      <td>False</td>\n",
       "      <td>NaN</td>\n",
       "    </tr>\n",
       "    <tr>\n",
       "      <th>...</th>\n",
       "      <td>...</td>\n",
       "      <td>...</td>\n",
       "      <td>...</td>\n",
       "      <td>...</td>\n",
       "      <td>...</td>\n",
       "      <td>...</td>\n",
       "      <td>...</td>\n",
       "      <td>...</td>\n",
       "      <td>...</td>\n",
       "      <td>...</td>\n",
       "      <td>...</td>\n",
       "      <td>...</td>\n",
       "      <td>...</td>\n",
       "    </tr>\n",
       "    <tr>\n",
       "      <th>055e0ce7a55ea957b1590c03a28e583a</th>\n",
       "      <td>Anougba, Niangbô, N'da</td>\n",
       "      <td>einheimische Namen</td>\n",
       "      <td>nan</td>\n",
       "      <td>532</td>\n",
       "      <td>37</td>\n",
       "      <td>C:\\coding\\voki\\data\\SerieVertes4.pdf</td>\n",
       "      <td>4</td>\n",
       "      <td>[]</td>\n",
       "      <td>0</td>\n",
       "      <td>NaN</td>\n",
       "      <td>NaN</td>\n",
       "      <td>False</td>\n",
       "      <td>NaN</td>\n",
       "    </tr>\n",
       "    <tr>\n",
       "      <th>0ffc3f0e5dd099af0a92ad2d1e91f20a</th>\n",
       "      <td>un sorcier/une sorcière</td>\n",
       "      <td>ein Zauberer/eine Zau-</td>\n",
       "      <td>Les Africains s'adressent quelquefois à ~ quan...</td>\n",
       "      <td>576</td>\n",
       "      <td>37</td>\n",
       "      <td>C:\\coding\\voki\\data\\SerieVertes4.pdf</td>\n",
       "      <td>4</td>\n",
       "      <td>[]</td>\n",
       "      <td>0</td>\n",
       "      <td>NaN</td>\n",
       "      <td>NaN</td>\n",
       "      <td>False</td>\n",
       "      <td>NaN</td>\n",
       "    </tr>\n",
       "    <tr>\n",
       "      <th>ed59c85d1cbc1cf3e9b8dc4bf0fd42a1</th>\n",
       "      <td>un sous-préfet</td>\n",
       "      <td>ein Unterpräfekt</td>\n",
       "      <td>Le ~ est un représentant de l'Etat.</td>\n",
       "      <td>624</td>\n",
       "      <td>37</td>\n",
       "      <td>C:\\coding\\voki\\data\\SerieVertes4.pdf</td>\n",
       "      <td>4</td>\n",
       "      <td>[]</td>\n",
       "      <td>0</td>\n",
       "      <td>NaN</td>\n",
       "      <td>NaN</td>\n",
       "      <td>False</td>\n",
       "      <td>NaN</td>\n",
       "    </tr>\n",
       "    <tr>\n",
       "      <th>29863943275d4e1a7abcfae31bccf79d</th>\n",
       "      <td>le sens propre</td>\n",
       "      <td>die wörtliche Bedeu-</td>\n",
       "      <td>~ de «front» est: «partie du visage»</td>\n",
       "      <td>647</td>\n",
       "      <td>37</td>\n",
       "      <td>C:\\coding\\voki\\data\\SerieVertes4.pdf</td>\n",
       "      <td>4</td>\n",
       "      <td>[]</td>\n",
       "      <td>0</td>\n",
       "      <td>NaN</td>\n",
       "      <td>NaN</td>\n",
       "      <td>False</td>\n",
       "      <td>NaN</td>\n",
       "    </tr>\n",
       "    <tr>\n",
       "      <th>a45cf45070de67f184843a9248a84ced</th>\n",
       "      <td>le sens figuré</td>\n",
       "      <td>die übertragene Bedeu-</td>\n",
       "      <td>~ de «front» est: «le devant», par ex. le fron...</td>\n",
       "      <td>691</td>\n",
       "      <td>37</td>\n",
       "      <td>C:\\coding\\voki\\data\\SerieVertes4.pdf</td>\n",
       "      <td>4</td>\n",
       "      <td>[]</td>\n",
       "      <td>0</td>\n",
       "      <td>NaN</td>\n",
       "      <td>NaN</td>\n",
       "      <td>False</td>\n",
       "      <td>NaN</td>\n",
       "    </tr>\n",
       "  </tbody>\n",
       "</table>\n",
       "<p>3632 rows × 13 columns</p>\n",
       "</div>"
      ],
      "text/plain": [
       "                                                     text  \\\n",
       "hash                                                        \n",
       "fc6f4b16c99f0cbcb3e6f18e169df236                 Bonjour!   \n",
       "2ced79c45d1ccdbdd2e01726d87e1dae                  une rue   \n",
       "66932ff7f2834ad68c9a9dbfa393d3ec                    c'est   \n",
       "801dbee798c9ff4d905f7537f1fe0ded             monsieur ...   \n",
       "ad158daf1773b311a1a61929c9bf019b                    Rigot   \n",
       "...                                                   ...   \n",
       "055e0ce7a55ea957b1590c03a28e583a   Anougba, Niangbô, N'da   \n",
       "0ffc3f0e5dd099af0a92ad2d1e91f20a  un sorcier/une sorcière   \n",
       "ed59c85d1cbc1cf3e9b8dc4bf0fd42a1           un sous-préfet   \n",
       "29863943275d4e1a7abcfae31bccf79d           le sens propre   \n",
       "a45cf45070de67f184843a9248a84ced           le sens figuré   \n",
       "\n",
       "                                                  text_g  \\\n",
       "hash                                                       \n",
       "fc6f4b16c99f0cbcb3e6f18e169df236              Guten Tag!   \n",
       "2ced79c45d1ccdbdd2e01726d87e1dae             eine Straße   \n",
       "66932ff7f2834ad68c9a9dbfa393d3ec                 das ist   \n",
       "801dbee798c9ff4d905f7537f1fe0ded                Herr ...   \n",
       "ad158daf1773b311a1a61929c9bf019b            Familienname   \n",
       "...                                                  ...   \n",
       "055e0ce7a55ea957b1590c03a28e583a      einheimische Namen   \n",
       "0ffc3f0e5dd099af0a92ad2d1e91f20a  ein Zauberer/eine Zau-   \n",
       "ed59c85d1cbc1cf3e9b8dc4bf0fd42a1        ein Unterpräfekt   \n",
       "29863943275d4e1a7abcfae31bccf79d    die wörtliche Bedeu-   \n",
       "a45cf45070de67f184843a9248a84ced  die übertragene Bedeu-   \n",
       "\n",
       "                                                                             text_s  \\\n",
       "hash                                                                                  \n",
       "fc6f4b16c99f0cbcb3e6f18e169df236                                         ~, Arthur!   \n",
       "2ced79c45d1ccdbdd2e01726d87e1dae                                                nan   \n",
       "66932ff7f2834ad68c9a9dbfa393d3ec                                                nan   \n",
       "801dbee798c9ff4d905f7537f1fe0ded                                                nan   \n",
       "ad158daf1773b311a1a61929c9bf019b                                                nan   \n",
       "...                                                                             ...   \n",
       "055e0ce7a55ea957b1590c03a28e583a                                                nan   \n",
       "0ffc3f0e5dd099af0a92ad2d1e91f20a  Les Africains s'adressent quelquefois à ~ quan...   \n",
       "ed59c85d1cbc1cf3e9b8dc4bf0fd42a1                Le ~ est un représentant de l'Etat.   \n",
       "29863943275d4e1a7abcfae31bccf79d               ~ de «front» est: «partie du visage»   \n",
       "a45cf45070de67f184843a9248a84ced  ~ de «front» est: «le devant», par ex. le fron...   \n",
       "\n",
       "                                  y_max  page  \\\n",
       "hash                                            \n",
       "fc6f4b16c99f0cbcb3e6f18e169df236   1171     2   \n",
       "2ced79c45d1ccdbdd2e01726d87e1dae   1192     2   \n",
       "66932ff7f2834ad68c9a9dbfa393d3ec   1216     2   \n",
       "801dbee798c9ff4d905f7537f1fe0ded   1240     2   \n",
       "ad158daf1773b311a1a61929c9bf019b   1264     2   \n",
       "...                                 ...   ...   \n",
       "055e0ce7a55ea957b1590c03a28e583a    532    37   \n",
       "0ffc3f0e5dd099af0a92ad2d1e91f20a    576    37   \n",
       "ed59c85d1cbc1cf3e9b8dc4bf0fd42a1    624    37   \n",
       "29863943275d4e1a7abcfae31bccf79d    647    37   \n",
       "a45cf45070de67f184843a9248a84ced    691    37   \n",
       "\n",
       "                                                                  file  book  \\\n",
       "hash                                                                           \n",
       "fc6f4b16c99f0cbcb3e6f18e169df236  C:\\coding\\voki\\data\\SerieVertes1.pdf     1   \n",
       "2ced79c45d1ccdbdd2e01726d87e1dae  C:\\coding\\voki\\data\\SerieVertes1.pdf     1   \n",
       "66932ff7f2834ad68c9a9dbfa393d3ec  C:\\coding\\voki\\data\\SerieVertes1.pdf     1   \n",
       "801dbee798c9ff4d905f7537f1fe0ded  C:\\coding\\voki\\data\\SerieVertes1.pdf     1   \n",
       "ad158daf1773b311a1a61929c9bf019b  C:\\coding\\voki\\data\\SerieVertes1.pdf     1   \n",
       "...                                                                ...   ...   \n",
       "055e0ce7a55ea957b1590c03a28e583a  C:\\coding\\voki\\data\\SerieVertes4.pdf     4   \n",
       "0ffc3f0e5dd099af0a92ad2d1e91f20a  C:\\coding\\voki\\data\\SerieVertes4.pdf     4   \n",
       "ed59c85d1cbc1cf3e9b8dc4bf0fd42a1  C:\\coding\\voki\\data\\SerieVertes4.pdf     4   \n",
       "29863943275d4e1a7abcfae31bccf79d  C:\\coding\\voki\\data\\SerieVertes4.pdf     4   \n",
       "a45cf45070de67f184843a9248a84ced  C:\\coding\\voki\\data\\SerieVertes4.pdf     4   \n",
       "\n",
       "                                                                           attempts  \\\n",
       "hash                                                                                  \n",
       "fc6f4b16c99f0cbcb3e6f18e169df236  [Successful attempt at 2022-02-27 21:02:47: \"B...   \n",
       "2ced79c45d1ccdbdd2e01726d87e1dae  [Failed attempt at 2022-02-27 21:04:47: \"une ru\"]   \n",
       "66932ff7f2834ad68c9a9dbfa393d3ec  [Successful attempt at 2022-02-27 21:04:51: \"c...   \n",
       "801dbee798c9ff4d905f7537f1fe0ded                                                 []   \n",
       "ad158daf1773b311a1a61929c9bf019b                                                 []   \n",
       "...                                                                             ...   \n",
       "055e0ce7a55ea957b1590c03a28e583a                                                 []   \n",
       "0ffc3f0e5dd099af0a92ad2d1e91f20a                                                 []   \n",
       "ed59c85d1cbc1cf3e9b8dc4bf0fd42a1                                                 []   \n",
       "29863943275d4e1a7abcfae31bccf79d                                                 []   \n",
       "a45cf45070de67f184843a9248a84ced                                                 []   \n",
       "\n",
       "                                  streak    last_attempt_time  \\\n",
       "hash                                                            \n",
       "fc6f4b16c99f0cbcb3e6f18e169df236       2  2022-02-27 21:04:41   \n",
       "2ced79c45d1ccdbdd2e01726d87e1dae       0  2022-02-27 21:04:47   \n",
       "66932ff7f2834ad68c9a9dbfa393d3ec       1  2022-02-27 21:04:51   \n",
       "801dbee798c9ff4d905f7537f1fe0ded       0                  NaN   \n",
       "ad158daf1773b311a1a61929c9bf019b       0                  NaN   \n",
       "...                                  ...                  ...   \n",
       "055e0ce7a55ea957b1590c03a28e583a       0                  NaN   \n",
       "0ffc3f0e5dd099af0a92ad2d1e91f20a       0                  NaN   \n",
       "ed59c85d1cbc1cf3e9b8dc4bf0fd42a1       0                  NaN   \n",
       "29863943275d4e1a7abcfae31bccf79d       0                  NaN   \n",
       "a45cf45070de67f184843a9248a84ced       0                  NaN   \n",
       "\n",
       "                                 last_successful_attempt_time  passed_vokibox  \\\n",
       "hash                                                                            \n",
       "fc6f4b16c99f0cbcb3e6f18e169df236          2022-02-27 21:04:41           False   \n",
       "2ced79c45d1ccdbdd2e01726d87e1dae                          NaN           False   \n",
       "66932ff7f2834ad68c9a9dbfa393d3ec          2022-02-27 21:04:51           False   \n",
       "801dbee798c9ff4d905f7537f1fe0ded                          NaN           False   \n",
       "ad158daf1773b311a1a61929c9bf019b                          NaN           False   \n",
       "...                                                       ...             ...   \n",
       "055e0ce7a55ea957b1590c03a28e583a                          NaN           False   \n",
       "0ffc3f0e5dd099af0a92ad2d1e91f20a                          NaN           False   \n",
       "ed59c85d1cbc1cf3e9b8dc4bf0fd42a1                          NaN           False   \n",
       "29863943275d4e1a7abcfae31bccf79d                          NaN           False   \n",
       "a45cf45070de67f184843a9248a84ced                          NaN           False   \n",
       "\n",
       "                                  box_shortlisted  \n",
       "hash                                               \n",
       "fc6f4b16c99f0cbcb3e6f18e169df236              NaN  \n",
       "2ced79c45d1ccdbdd2e01726d87e1dae              NaN  \n",
       "66932ff7f2834ad68c9a9dbfa393d3ec              NaN  \n",
       "801dbee798c9ff4d905f7537f1fe0ded              NaN  \n",
       "ad158daf1773b311a1a61929c9bf019b              NaN  \n",
       "...                                           ...  \n",
       "055e0ce7a55ea957b1590c03a28e583a              NaN  \n",
       "0ffc3f0e5dd099af0a92ad2d1e91f20a              NaN  \n",
       "ed59c85d1cbc1cf3e9b8dc4bf0fd42a1              NaN  \n",
       "29863943275d4e1a7abcfae31bccf79d              NaN  \n",
       "a45cf45070de67f184843a9248a84ced              NaN  \n",
       "\n",
       "[3632 rows x 13 columns]"
      ]
     },
     "execution_count": 24,
     "metadata": {},
     "output_type": "execute_result"
    }
   ],
   "source": [
    "df = trainer.db[trainer.db['attempts'].apply(len) < trainer.box.n_levels]"
   ]
  },
  {
   "cell_type": "code",
   "execution_count": 32,
   "id": "670fb458-7f71-42af-8b84-2036422c6ed5",
   "metadata": {},
   "outputs": [],
   "source": [
    "df = trainer.db"
   ]
  },
  {
   "cell_type": "code",
   "execution_count": 33,
   "id": "f347ce3e-f3f4-4989-bfbf-e7a3ad375add",
   "metadata": {},
   "outputs": [
    {
     "data": {
      "text/plain": [
       "Index(['text', 'text_g', 'text_s', 'y_max', 'page', 'file', 'book', 'attempts',\n",
       "       'streak', 'last_attempt_time', 'last_successful_attempt_time',\n",
       "       'passed_vokibox', 'box_shortlisted'],\n",
       "      dtype='object')"
      ]
     },
     "execution_count": 33,
     "metadata": {},
     "output_type": "execute_result"
    }
   ],
   "source": [
    "df.columns"
   ]
  },
  {
   "cell_type": "code",
   "execution_count": 38,
   "id": "c76c6994-d03b-40b9-a5d2-005437145abe",
   "metadata": {},
   "outputs": [
    {
     "data": {
      "text/html": [
       "<div>\n",
       "<style scoped>\n",
       "    .dataframe tbody tr th:only-of-type {\n",
       "        vertical-align: middle;\n",
       "    }\n",
       "\n",
       "    .dataframe tbody tr th {\n",
       "        vertical-align: top;\n",
       "    }\n",
       "\n",
       "    .dataframe thead th {\n",
       "        text-align: right;\n",
       "    }\n",
       "</style>\n",
       "<table border=\"1\" class=\"dataframe\">\n",
       "  <thead>\n",
       "    <tr style=\"text-align: right;\">\n",
       "      <th></th>\n",
       "      <th>text</th>\n",
       "      <th>text_g</th>\n",
       "      <th>text_s</th>\n",
       "      <th>y_max</th>\n",
       "      <th>page</th>\n",
       "      <th>file</th>\n",
       "      <th>book</th>\n",
       "      <th>attempts</th>\n",
       "      <th>streak</th>\n",
       "      <th>last_attempt_time</th>\n",
       "      <th>last_successful_attempt_time</th>\n",
       "      <th>passed_vokibox</th>\n",
       "      <th>box_shortlisted</th>\n",
       "    </tr>\n",
       "    <tr>\n",
       "      <th>hash</th>\n",
       "      <th></th>\n",
       "      <th></th>\n",
       "      <th></th>\n",
       "      <th></th>\n",
       "      <th></th>\n",
       "      <th></th>\n",
       "      <th></th>\n",
       "      <th></th>\n",
       "      <th></th>\n",
       "      <th></th>\n",
       "      <th></th>\n",
       "      <th></th>\n",
       "      <th></th>\n",
       "    </tr>\n",
       "  </thead>\n",
       "  <tbody>\n",
       "    <tr>\n",
       "      <th>52eea49610370c6968dbd549c2e5f6be</th>\n",
       "      <td>Paris</td>\n",
       "      <td>Hauptstadt Frankreichs</td>\n",
       "      <td>nan</td>\n",
       "      <td>1146</td>\n",
       "      <td>2</td>\n",
       "      <td>C:\\coding\\voki\\data\\SerieVertes1.pdf</td>\n",
       "      <td>1</td>\n",
       "      <td>[Successful attempt at 2022-02-27 20:59:48: \"P...</td>\n",
       "      <td>3</td>\n",
       "      <td>2022-02-27 21:01:04</td>\n",
       "      <td>2022-02-27 21:01:04</td>\n",
       "      <td>True</td>\n",
       "      <td>NaN</td>\n",
       "    </tr>\n",
       "    <tr>\n",
       "      <th>2adc174acd08fa65f1df3b8f22abdb43</th>\n",
       "      <td>une leçon</td>\n",
       "      <td>eine Lektion</td>\n",
       "      <td>nan</td>\n",
       "      <td>943</td>\n",
       "      <td>2</td>\n",
       "      <td>C:\\coding\\voki\\data\\SerieVertes1.pdf</td>\n",
       "      <td>1</td>\n",
       "      <td>[Failed attempt at 2022-02-27 20:59:20: \"une l...</td>\n",
       "      <td>3</td>\n",
       "      <td>2022-02-27 21:02:27</td>\n",
       "      <td>2022-02-27 21:02:27</td>\n",
       "      <td>True</td>\n",
       "      <td>NaN</td>\n",
       "    </tr>\n",
       "    <tr>\n",
       "      <th>54d9f89c97e39cbaf23893f701f06e0a</th>\n",
       "      <td>Arthur</td>\n",
       "      <td>männl. Vorname; hier: Name eines Papageis</td>\n",
       "      <td>nan</td>\n",
       "      <td>1079</td>\n",
       "      <td>2</td>\n",
       "      <td>C:\\coding\\voki\\data\\SerieVertes1.pdf</td>\n",
       "      <td>1</td>\n",
       "      <td>[Failed attempt at 2022-02-27 20:59:31: \"arthu...</td>\n",
       "      <td>3</td>\n",
       "      <td>2022-02-27 21:02:32</td>\n",
       "      <td>2022-02-27 21:02:32</td>\n",
       "      <td>True</td>\n",
       "      <td>NaN</td>\n",
       "    </tr>\n",
       "    <tr>\n",
       "      <th>ce0efe3d25d6b36e8aba2ec454b48711</th>\n",
       "      <td>à</td>\n",
       "      <td>in</td>\n",
       "      <td>nan</td>\n",
       "      <td>1122</td>\n",
       "      <td>2</td>\n",
       "      <td>C:\\coding\\voki\\data\\SerieVertes1.pdf</td>\n",
       "      <td>1</td>\n",
       "      <td>[Failed attempt at 2022-02-27 20:59:36: \"á\", S...</td>\n",
       "      <td>3</td>\n",
       "      <td>2022-02-27 21:02:39</td>\n",
       "      <td>2022-02-27 21:02:39</td>\n",
       "      <td>True</td>\n",
       "      <td>NaN</td>\n",
       "    </tr>\n",
       "    <tr>\n",
       "      <th>c0b716ccc9c4912796f42843354f270b</th>\n",
       "      <td>1 = un</td>\n",
       "      <td>eins</td>\n",
       "      <td>nan</td>\n",
       "      <td>965</td>\n",
       "      <td>2</td>\n",
       "      <td>C:\\coding\\voki\\data\\SerieVertes1.pdf</td>\n",
       "      <td>1</td>\n",
       "      <td>[Successful attempt at 2022-02-27 20:59:25: \"1...</td>\n",
       "      <td>2</td>\n",
       "      <td>2022-02-27 21:03:36</td>\n",
       "      <td>2022-02-27 21:03:36</td>\n",
       "      <td>False</td>\n",
       "      <td>NaN</td>\n",
       "    </tr>\n",
       "    <tr>\n",
       "      <th>fc6f4b16c99f0cbcb3e6f18e169df236</th>\n",
       "      <td>Bonjour!</td>\n",
       "      <td>Guten Tag!</td>\n",
       "      <td>~, Arthur!</td>\n",
       "      <td>1171</td>\n",
       "      <td>2</td>\n",
       "      <td>C:\\coding\\voki\\data\\SerieVertes1.pdf</td>\n",
       "      <td>1</td>\n",
       "      <td>[Successful attempt at 2022-02-27 21:02:47: \"B...</td>\n",
       "      <td>2</td>\n",
       "      <td>2022-02-27 21:04:41</td>\n",
       "      <td>2022-02-27 21:04:41</td>\n",
       "      <td>False</td>\n",
       "      <td>NaN</td>\n",
       "    </tr>\n",
       "    <tr>\n",
       "      <th>2ced79c45d1ccdbdd2e01726d87e1dae</th>\n",
       "      <td>une rue</td>\n",
       "      <td>eine Straße</td>\n",
       "      <td>nan</td>\n",
       "      <td>1192</td>\n",
       "      <td>2</td>\n",
       "      <td>C:\\coding\\voki\\data\\SerieVertes1.pdf</td>\n",
       "      <td>1</td>\n",
       "      <td>[Failed attempt at 2022-02-27 21:04:47: \"une ru\"]</td>\n",
       "      <td>0</td>\n",
       "      <td>2022-02-27 21:04:47</td>\n",
       "      <td>NaN</td>\n",
       "      <td>False</td>\n",
       "      <td>NaN</td>\n",
       "    </tr>\n",
       "    <tr>\n",
       "      <th>66932ff7f2834ad68c9a9dbfa393d3ec</th>\n",
       "      <td>c'est</td>\n",
       "      <td>das ist</td>\n",
       "      <td>nan</td>\n",
       "      <td>1216</td>\n",
       "      <td>2</td>\n",
       "      <td>C:\\coding\\voki\\data\\SerieVertes1.pdf</td>\n",
       "      <td>1</td>\n",
       "      <td>[Successful attempt at 2022-02-27 21:04:51: \"c...</td>\n",
       "      <td>1</td>\n",
       "      <td>2022-02-27 21:04:51</td>\n",
       "      <td>2022-02-27 21:04:51</td>\n",
       "      <td>False</td>\n",
       "      <td>NaN</td>\n",
       "    </tr>\n",
       "  </tbody>\n",
       "</table>\n",
       "</div>"
      ],
      "text/plain": [
       "                                       text  \\\n",
       "hash                                          \n",
       "52eea49610370c6968dbd549c2e5f6be      Paris   \n",
       "2adc174acd08fa65f1df3b8f22abdb43  une leçon   \n",
       "54d9f89c97e39cbaf23893f701f06e0a     Arthur   \n",
       "ce0efe3d25d6b36e8aba2ec454b48711          à   \n",
       "c0b716ccc9c4912796f42843354f270b     1 = un   \n",
       "fc6f4b16c99f0cbcb3e6f18e169df236   Bonjour!   \n",
       "2ced79c45d1ccdbdd2e01726d87e1dae    une rue   \n",
       "66932ff7f2834ad68c9a9dbfa393d3ec      c'est   \n",
       "\n",
       "                                                                     text_g  \\\n",
       "hash                                                                          \n",
       "52eea49610370c6968dbd549c2e5f6be                     Hauptstadt Frankreichs   \n",
       "2adc174acd08fa65f1df3b8f22abdb43                               eine Lektion   \n",
       "54d9f89c97e39cbaf23893f701f06e0a  männl. Vorname; hier: Name eines Papageis   \n",
       "ce0efe3d25d6b36e8aba2ec454b48711                                         in   \n",
       "c0b716ccc9c4912796f42843354f270b                                       eins   \n",
       "fc6f4b16c99f0cbcb3e6f18e169df236                                 Guten Tag!   \n",
       "2ced79c45d1ccdbdd2e01726d87e1dae                                eine Straße   \n",
       "66932ff7f2834ad68c9a9dbfa393d3ec                                    das ist   \n",
       "\n",
       "                                      text_s  y_max  page  \\\n",
       "hash                                                        \n",
       "52eea49610370c6968dbd549c2e5f6be         nan   1146     2   \n",
       "2adc174acd08fa65f1df3b8f22abdb43         nan    943     2   \n",
       "54d9f89c97e39cbaf23893f701f06e0a         nan   1079     2   \n",
       "ce0efe3d25d6b36e8aba2ec454b48711         nan   1122     2   \n",
       "c0b716ccc9c4912796f42843354f270b         nan    965     2   \n",
       "fc6f4b16c99f0cbcb3e6f18e169df236  ~, Arthur!   1171     2   \n",
       "2ced79c45d1ccdbdd2e01726d87e1dae         nan   1192     2   \n",
       "66932ff7f2834ad68c9a9dbfa393d3ec         nan   1216     2   \n",
       "\n",
       "                                                                  file  book  \\\n",
       "hash                                                                           \n",
       "52eea49610370c6968dbd549c2e5f6be  C:\\coding\\voki\\data\\SerieVertes1.pdf     1   \n",
       "2adc174acd08fa65f1df3b8f22abdb43  C:\\coding\\voki\\data\\SerieVertes1.pdf     1   \n",
       "54d9f89c97e39cbaf23893f701f06e0a  C:\\coding\\voki\\data\\SerieVertes1.pdf     1   \n",
       "ce0efe3d25d6b36e8aba2ec454b48711  C:\\coding\\voki\\data\\SerieVertes1.pdf     1   \n",
       "c0b716ccc9c4912796f42843354f270b  C:\\coding\\voki\\data\\SerieVertes1.pdf     1   \n",
       "fc6f4b16c99f0cbcb3e6f18e169df236  C:\\coding\\voki\\data\\SerieVertes1.pdf     1   \n",
       "2ced79c45d1ccdbdd2e01726d87e1dae  C:\\coding\\voki\\data\\SerieVertes1.pdf     1   \n",
       "66932ff7f2834ad68c9a9dbfa393d3ec  C:\\coding\\voki\\data\\SerieVertes1.pdf     1   \n",
       "\n",
       "                                                                           attempts  \\\n",
       "hash                                                                                  \n",
       "52eea49610370c6968dbd549c2e5f6be  [Successful attempt at 2022-02-27 20:59:48: \"P...   \n",
       "2adc174acd08fa65f1df3b8f22abdb43  [Failed attempt at 2022-02-27 20:59:20: \"une l...   \n",
       "54d9f89c97e39cbaf23893f701f06e0a  [Failed attempt at 2022-02-27 20:59:31: \"arthu...   \n",
       "ce0efe3d25d6b36e8aba2ec454b48711  [Failed attempt at 2022-02-27 20:59:36: \"á\", S...   \n",
       "c0b716ccc9c4912796f42843354f270b  [Successful attempt at 2022-02-27 20:59:25: \"1...   \n",
       "fc6f4b16c99f0cbcb3e6f18e169df236  [Successful attempt at 2022-02-27 21:02:47: \"B...   \n",
       "2ced79c45d1ccdbdd2e01726d87e1dae  [Failed attempt at 2022-02-27 21:04:47: \"une ru\"]   \n",
       "66932ff7f2834ad68c9a9dbfa393d3ec  [Successful attempt at 2022-02-27 21:04:51: \"c...   \n",
       "\n",
       "                                  streak    last_attempt_time  \\\n",
       "hash                                                            \n",
       "52eea49610370c6968dbd549c2e5f6be       3  2022-02-27 21:01:04   \n",
       "2adc174acd08fa65f1df3b8f22abdb43       3  2022-02-27 21:02:27   \n",
       "54d9f89c97e39cbaf23893f701f06e0a       3  2022-02-27 21:02:32   \n",
       "ce0efe3d25d6b36e8aba2ec454b48711       3  2022-02-27 21:02:39   \n",
       "c0b716ccc9c4912796f42843354f270b       2  2022-02-27 21:03:36   \n",
       "fc6f4b16c99f0cbcb3e6f18e169df236       2  2022-02-27 21:04:41   \n",
       "2ced79c45d1ccdbdd2e01726d87e1dae       0  2022-02-27 21:04:47   \n",
       "66932ff7f2834ad68c9a9dbfa393d3ec       1  2022-02-27 21:04:51   \n",
       "\n",
       "                                 last_successful_attempt_time  passed_vokibox  \\\n",
       "hash                                                                            \n",
       "52eea49610370c6968dbd549c2e5f6be          2022-02-27 21:01:04            True   \n",
       "2adc174acd08fa65f1df3b8f22abdb43          2022-02-27 21:02:27            True   \n",
       "54d9f89c97e39cbaf23893f701f06e0a          2022-02-27 21:02:32            True   \n",
       "ce0efe3d25d6b36e8aba2ec454b48711          2022-02-27 21:02:39            True   \n",
       "c0b716ccc9c4912796f42843354f270b          2022-02-27 21:03:36           False   \n",
       "fc6f4b16c99f0cbcb3e6f18e169df236          2022-02-27 21:04:41           False   \n",
       "2ced79c45d1ccdbdd2e01726d87e1dae                          NaN           False   \n",
       "66932ff7f2834ad68c9a9dbfa393d3ec          2022-02-27 21:04:51           False   \n",
       "\n",
       "                                  box_shortlisted  \n",
       "hash                                               \n",
       "52eea49610370c6968dbd549c2e5f6be              NaN  \n",
       "2adc174acd08fa65f1df3b8f22abdb43              NaN  \n",
       "54d9f89c97e39cbaf23893f701f06e0a              NaN  \n",
       "ce0efe3d25d6b36e8aba2ec454b48711              NaN  \n",
       "c0b716ccc9c4912796f42843354f270b              NaN  \n",
       "fc6f4b16c99f0cbcb3e6f18e169df236              NaN  \n",
       "2ced79c45d1ccdbdd2e01726d87e1dae              NaN  \n",
       "66932ff7f2834ad68c9a9dbfa393d3ec              NaN  "
      ]
     },
     "execution_count": 38,
     "metadata": {},
     "output_type": "execute_result"
    }
   ],
   "source": [
    "df[~df['last_attempt_time'].isna()].sort_values(by = 'last_attempt_time')"
   ]
  },
  {
   "cell_type": "code",
   "execution_count": 12,
   "id": "1011b3db-64fc-437d-b34d-2460f4dd1e1a",
   "metadata": {},
   "outputs": [
    {
     "name": "stdout",
     "output_type": "stream",
     "text": [
      "enter folder name: \n"
     ]
    },
    {
     "name": "stdin",
     "output_type": "stream",
     "text": [
      " asd\n"
     ]
    }
   ],
   "source": [
    "from pyautogui import typewrite\n",
    "\n",
    "print(\"enter folder name: \")\n",
    "typewrite(\"Default Value\");folder = input()"
   ]
  },
  {
   "cell_type": "code",
   "execution_count": null,
   "id": "545aa1d4-42b5-47fd-9906-d17b60c98367",
   "metadata": {},
   "outputs": [],
   "source": []
  },
  {
   "cell_type": "code",
   "execution_count": null,
   "id": "42af4b40-4be9-4ae1-9eef-23c9ec213ffa",
   "metadata": {},
   "outputs": [],
   "source": []
  },
  {
   "cell_type": "code",
   "execution_count": null,
   "id": "f51f9679-2776-4810-a632-d4a087ac8222",
   "metadata": {},
   "outputs": [],
   "source": []
  },
  {
   "cell_type": "code",
   "execution_count": null,
   "id": "b489559f-11c8-4628-9351-b2fd215268d1",
   "metadata": {},
   "outputs": [],
   "source": []
  },
  {
   "cell_type": "code",
   "execution_count": null,
   "id": "98ab932a-4f56-4fc5-9b66-07c0504ab89b",
   "metadata": {},
   "outputs": [],
   "source": []
  },
  {
   "cell_type": "code",
   "execution_count": null,
   "id": "46d2e736-d0a5-414c-96a4-b43b701d45f9",
   "metadata": {},
   "outputs": [],
   "source": []
  },
  {
   "cell_type": "code",
   "execution_count": 19,
   "id": "e08c9277-af1b-4d8d-a504-f2c0814340f0",
   "metadata": {},
   "outputs": [
    {
     "data": {
      "text/plain": [
       "'[Successful attempt at 2022-02-27 15:08:51: \"une leçon\"]'"
      ]
     },
     "execution_count": 19,
     "metadata": {},
     "output_type": "execute_result"
    }
   ],
   "source": [
    "t2.db.loc[hash_,'attempts']"
   ]
  },
  {
   "cell_type": "code",
   "execution_count": 13,
   "id": "7e9ef0ca-a99f-426f-995f-34aedcc7461d",
   "metadata": {},
   "outputs": [
    {
     "name": "stdout",
     "output_type": "stream",
     "text": [
      "1\n",
      "\u001b[1ARandom string value\n"
     ]
    }
   ],
   "source": [
    "print(1)\n",
    "print(\"\\033[1ARandom string value\")"
   ]
  },
  {
   "cell_type": "code",
   "execution_count": 34,
   "id": "7e68698e-2fc8-4110-bebd-56e60a0c40a3",
   "metadata": {},
   "outputs": [],
   "source": [
    "fname = trainer_dir / 'deleteme.pk'\n",
    "a=[1]\n",
    "with open(fname,'wb') as fh:\n",
    "    pickle.dump(a,fh)\n"
   ]
  },
  {
   "cell_type": "code",
   "execution_count": 37,
   "id": "0fb47aaf-7e75-4644-8717-6d20ee8a6b1f",
   "metadata": {
    "tags": []
   },
   "outputs": [],
   "source": [
    "with open(fname,'rb') as fh:\n",
    "    b=pickle.load(fh)"
   ]
  },
  {
   "cell_type": "code",
   "execution_count": 39,
   "id": "4e59c419-6fea-4310-8ee5-d3c43cab2554",
   "metadata": {},
   "outputs": [
    {
     "data": {
      "text/plain": [
       "{'DB_PATH': WindowsPath('C:/coding/voki/db/v1/db.csv'),\n",
       " 'ROOT': WindowsPath('C:/coding/voki/db/v1'),\n",
       " 'box': level 1\n",
       " level 2\n",
       " level 3\n",
       " level 4\n",
       " level 5\n",
       " level 6,\n",
       " 'fpath': WindowsPath('C:/coding/voki/db/v1')}"
      ]
     },
     "execution_count": 39,
     "metadata": {},
     "output_type": "execute_result"
    }
   ],
   "source": [
    "properties"
   ]
  },
  {
   "cell_type": "code",
   "execution_count": null,
   "id": "95ab9b51-c680-4732-ad53-ae968b7c75b7",
   "metadata": {},
   "outputs": [],
   "source": []
  },
  {
   "cell_type": "code",
   "execution_count": 6,
   "id": "04dfdc26-b40b-4755-a776-48163c91bce6",
   "metadata": {},
   "outputs": [
    {
     "name": "stdout",
     "output_type": "stream",
     "text": [
      "Voki Box with 1/20 cards\n",
      "level 1\n",
      "level 2\n",
      "level 3\n",
      "level 4\n",
      "level 5\n",
      "level 6\n",
      "    eins\n"
     ]
    }
   ],
   "source": [
    "hash_ = trainer.db.iloc[1].name\n",
    "trainer.box.onboard_card(hash_,level=6)\n",
    "trainer.show_box()"
   ]
  },
  {
   "cell_type": "code",
   "execution_count": 7,
   "id": "77337a26-bb7e-4ef4-88c4-29b61505aeed",
   "metadata": {},
   "outputs": [
    {
     "name": "stdin",
     "output_type": "stream",
     "text": [
      "eins 1 = un\n"
     ]
    },
    {
     "name": "stdout",
     "output_type": "stream",
     "text": [
      "correct!\n"
     ]
    },
    {
     "data": {
      "text/plain": [
       "True"
      ]
     },
     "execution_count": 7,
     "metadata": {},
     "output_type": "execute_result"
    }
   ],
   "source": [
    "trainer.attempt_card_in_level(lvl=6)\n"
   ]
  },
  {
   "cell_type": "code",
   "execution_count": 8,
   "id": "6a641590-8942-4267-a9c0-6d3c01a8fa64",
   "metadata": {},
   "outputs": [
    {
     "name": "stdout",
     "output_type": "stream",
     "text": [
      "Voki Box with 0/20 cards\n",
      "level 1\n",
      "level 2\n",
      "level 3\n",
      "level 4\n",
      "level 5\n",
      "level 6\n"
     ]
    }
   ],
   "source": [
    "trainer.show_box()"
   ]
  },
  {
   "cell_type": "code",
   "execution_count": 43,
   "id": "d05143b8-368e-4b1f-a835-79fe268cc000",
   "metadata": {},
   "outputs": [
    {
     "data": {
      "text/plain": [
       "[2, 3, 4]"
      ]
     },
     "execution_count": 43,
     "metadata": {},
     "output_type": "execute_result"
    }
   ],
   "source": [
    "a=[1,2,3,4]\n",
    "a.remove(1)\n",
    "a"
   ]
  },
  {
   "cell_type": "code",
   "execution_count": 44,
   "id": "53b1242c-e91f-4bd9-85a7-98a56d319def",
   "metadata": {},
   "outputs": [
    {
     "ename": "ValueError",
     "evalue": "list.remove(x): x not in list",
     "output_type": "error",
     "traceback": [
      "\u001b[1;31m---------------------------------------------------------------------------\u001b[0m",
      "\u001b[1;31mValueError\u001b[0m                                Traceback (most recent call last)",
      "Input \u001b[1;32mIn [44]\u001b[0m, in \u001b[0;36m<module>\u001b[1;34m\u001b[0m\n\u001b[1;32m----> 1\u001b[0m \u001b[43ma\u001b[49m\u001b[38;5;241;43m.\u001b[39;49m\u001b[43mremove\u001b[49m\u001b[43m(\u001b[49m\u001b[38;5;241;43m1\u001b[39;49m\u001b[43m)\u001b[49m\n",
      "\u001b[1;31mValueError\u001b[0m: list.remove(x): x not in list"
     ]
    }
   ],
   "source": [
    "a.remove(1)"
   ]
  },
  {
   "cell_type": "code",
   "execution_count": 17,
   "id": "1d2eda40-81ac-45d9-8544-219b36da6fda",
   "metadata": {},
   "outputs": [
    {
     "name": "stdout",
     "output_type": "stream",
     "text": [
      "0.0\n"
     ]
    }
   ],
   "source": [
    "import time\n",
    "start = time.time()\n",
    "trainer.save\n",
    "print(f'{time.time()-start}')"
   ]
  },
  {
   "cell_type": "code",
   "execution_count": 31,
   "id": "96f0eda4-ad22-4678-b889-ec848dab951d",
   "metadata": {},
   "outputs": [
    {
     "name": "stdin",
     "output_type": "stream",
     "text": [
      "eine Lektion un leçon\n"
     ]
    },
    {
     "ename": "TypeError",
     "evalue": "string indices must be integers",
     "output_type": "error",
     "traceback": [
      "\u001b[1;31m---------------------------------------------------------------------------\u001b[0m",
      "\u001b[1;31mTypeError\u001b[0m                                 Traceback (most recent call last)",
      "\u001b[1;32m<ipython-input-31-de2e8b1f469d>\u001b[0m in \u001b[0;36m<module>\u001b[1;34m\u001b[0m\n\u001b[1;32m----> 1\u001b[1;33m \u001b[0mtrainer\u001b[0m\u001b[1;33m.\u001b[0m\u001b[0mattempt_card_in_level\u001b[0m\u001b[1;33m(\u001b[0m\u001b[1;33m)\u001b[0m\u001b[1;33m\u001b[0m\u001b[1;33m\u001b[0m\u001b[0m\n\u001b[0m",
      "\u001b[1;32mc:\\coding\\voki\\src\\pyvoki\\main.py\u001b[0m in \u001b[0;36mattempt_card_in_level\u001b[1;34m(self, lvl)\u001b[0m\n\u001b[0;32m     77\u001b[0m \u001b[1;33m\u001b[0m\u001b[0m\n\u001b[0;32m     78\u001b[0m         \u001b[0mtop_card\u001b[0m \u001b[1;33m=\u001b[0m \u001b[0mself\u001b[0m\u001b[1;33m.\u001b[0m\u001b[0mbox\u001b[0m\u001b[1;33m.\u001b[0m\u001b[0mlevels\u001b[0m\u001b[1;33m[\u001b[0m\u001b[0mlvl\u001b[0m\u001b[1;33m]\u001b[0m\u001b[1;33m.\u001b[0m\u001b[0mpop\u001b[0m\u001b[1;33m(\u001b[0m\u001b[1;36m0\u001b[0m\u001b[1;33m)\u001b[0m\u001b[1;33m\u001b[0m\u001b[1;33m\u001b[0m\u001b[0m\n\u001b[1;32m---> 79\u001b[1;33m         \u001b[0mcard_attempt\u001b[0m \u001b[1;33m=\u001b[0m \u001b[0mself\u001b[0m\u001b[1;33m.\u001b[0m\u001b[0mattempt_card\u001b[0m\u001b[1;33m(\u001b[0m\u001b[0mtop_card\u001b[0m\u001b[1;33m)\u001b[0m\u001b[1;33m\u001b[0m\u001b[1;33m\u001b[0m\u001b[0m\n\u001b[0m\u001b[0;32m     80\u001b[0m \u001b[1;33m\u001b[0m\u001b[0m\n\u001b[0;32m     81\u001b[0m         \u001b[1;31m# update vokibox\u001b[0m\u001b[1;33m\u001b[0m\u001b[1;33m\u001b[0m\u001b[0m\n",
      "\u001b[1;32mc:\\coding\\voki\\src\\pyvoki\\main.py\u001b[0m in \u001b[0;36mattempt_card\u001b[1;34m(self, card)\u001b[0m\n\u001b[0;32m     90\u001b[0m         \u001b[0mnow\u001b[0m \u001b[1;33m=\u001b[0m \u001b[0mdatetime\u001b[0m\u001b[1;33m.\u001b[0m\u001b[0mdatetime\u001b[0m\u001b[1;33m.\u001b[0m\u001b[0mnow\u001b[0m\u001b[1;33m(\u001b[0m\u001b[1;33m)\u001b[0m\u001b[1;33m.\u001b[0m\u001b[0mreplace\u001b[0m\u001b[1;33m(\u001b[0m\u001b[0mmicrosecond\u001b[0m\u001b[1;33m=\u001b[0m\u001b[1;36m0\u001b[0m\u001b[1;33m)\u001b[0m\u001b[1;33m\u001b[0m\u001b[1;33m\u001b[0m\u001b[0m\n\u001b[0;32m     91\u001b[0m         \u001b[0mguess\u001b[0m \u001b[1;33m=\u001b[0m \u001b[0minput\u001b[0m\u001b[1;33m(\u001b[0m\u001b[1;34mf\"{row['text_g']}\"\u001b[0m\u001b[1;33m)\u001b[0m\u001b[1;33m\u001b[0m\u001b[1;33m\u001b[0m\u001b[0m\n\u001b[1;32m---> 92\u001b[1;33m         \u001b[0mresult\u001b[0m \u001b[1;33m=\u001b[0m \u001b[0mself\u001b[0m\u001b[1;33m.\u001b[0m\u001b[0mcheck_attempt\u001b[0m\u001b[1;33m(\u001b[0m\u001b[0mcard\u001b[0m\u001b[1;33m,\u001b[0m \u001b[0mguess\u001b[0m\u001b[1;33m)\u001b[0m  \u001b[1;31m# true/False\u001b[0m\u001b[1;33m\u001b[0m\u001b[1;33m\u001b[0m\u001b[0m\n\u001b[0m\u001b[0;32m     93\u001b[0m         \u001b[0msolution\u001b[0m \u001b[1;33m=\u001b[0m \u001b[0mrow\u001b[0m\u001b[1;33m[\u001b[0m\u001b[1;34m'text'\u001b[0m\u001b[1;33m]\u001b[0m\u001b[1;33m\u001b[0m\u001b[1;33m\u001b[0m\u001b[0m\n\u001b[0;32m     94\u001b[0m \u001b[1;33m\u001b[0m\u001b[0m\n",
      "\u001b[1;32mc:\\coding\\voki\\src\\pyvoki\\main.py\u001b[0m in \u001b[0;36mcheck_attempt\u001b[1;34m(self, card, guess)\u001b[0m\n\u001b[0;32m     99\u001b[0m \u001b[1;33m\u001b[0m\u001b[0m\n\u001b[0;32m    100\u001b[0m     \u001b[1;32mdef\u001b[0m \u001b[0mcheck_attempt\u001b[0m\u001b[1;33m(\u001b[0m\u001b[0mself\u001b[0m\u001b[1;33m,\u001b[0m \u001b[0mcard\u001b[0m\u001b[1;33m,\u001b[0m \u001b[0mguess\u001b[0m\u001b[1;33m)\u001b[0m\u001b[1;33m:\u001b[0m\u001b[1;33m\u001b[0m\u001b[1;33m\u001b[0m\u001b[0m\n\u001b[1;32m--> 101\u001b[1;33m         \u001b[1;32mif\u001b[0m \u001b[0mguess\u001b[0m \u001b[1;33m==\u001b[0m \u001b[0mcard\u001b[0m\u001b[1;33m[\u001b[0m\u001b[1;34m'french_phrase'\u001b[0m\u001b[1;33m]\u001b[0m\u001b[1;33m:\u001b[0m\u001b[1;33m\u001b[0m\u001b[1;33m\u001b[0m\u001b[0m\n\u001b[0m\u001b[0;32m    102\u001b[0m             \u001b[0mprint\u001b[0m\u001b[1;33m(\u001b[0m\u001b[1;34m'correct!'\u001b[0m\u001b[1;33m)\u001b[0m\u001b[1;33m\u001b[0m\u001b[1;33m\u001b[0m\u001b[0m\n\u001b[0;32m    103\u001b[0m             \u001b[1;32mreturn\u001b[0m \u001b[1;32mTrue\u001b[0m\u001b[1;33m\u001b[0m\u001b[1;33m\u001b[0m\u001b[0m\n",
      "\u001b[1;31mTypeError\u001b[0m: string indices must be integers"
     ]
    }
   ],
   "source": [
    "trainer2 = vo.Trainer.load"
   ]
  },
  {
   "cell_type": "code",
   "execution_count": 30,
   "id": "f117b0b9-71c4-4897-b429-2b21524f0155",
   "metadata": {},
   "outputs": [
    {
     "name": "stdout",
     "output_type": "stream",
     "text": [
      "level 1\n",
      "    eine Lektion\n",
      "    eins\n",
      "    männl. Vorname; hier: Name eines Papageis\n",
      "    in\n",
      "    Hauptstadt Frankreichs\n",
      "    Guten Tag!\n",
      "    eine Straße\n",
      "    das ist\n",
      "    Herr ...\n",
      "    Familienname\n",
      "    männl. Vorname\n",
      "    mit\n",
      "    und\n",
      "    ein Papagei\n",
      "    Arthur ist ein Papagei.\n",
      "    Familienname\n",
      "    ein Nachbar\n",
      "    Abkürzung für Monsieur Lacombe\n",
      "    Frau ...\n",
      "    Guten Tag! (zu einer Frau)\n",
      "level 2\n",
      "level 3\n",
      "level 4\n",
      "level 5\n",
      "level 6\n"
     ]
    }
   ],
   "source": [
    "trainer.show_box()"
   ]
  },
  {
   "cell_type": "code",
   "execution_count": 29,
   "id": "fc44a63d-ff52-4c39-8293-a4e545405d4d",
   "metadata": {},
   "outputs": [
    {
     "data": {
      "text/plain": [
       "level 1\n",
       "    2adc174acd08fa65f1df3b8f22abdb43\n",
       "    c0b716ccc9c4912796f42843354f270b\n",
       "    54d9f89c97e39cbaf23893f701f06e0a\n",
       "    ce0efe3d25d6b36e8aba2ec454b48711\n",
       "    52eea49610370c6968dbd549c2e5f6be\n",
       "    fc6f4b16c99f0cbcb3e6f18e169df236\n",
       "    2ced79c45d1ccdbdd2e01726d87e1dae\n",
       "    66932ff7f2834ad68c9a9dbfa393d3ec\n",
       "    801dbee798c9ff4d905f7537f1fe0ded\n",
       "    ad158daf1773b311a1a61929c9bf019b\n",
       "    8f3a49dfcc49000a238bd8d22d791daf\n",
       "    1476a2e343d5a537d9f8810549026068\n",
       "    cc244c5a33ddab783d6b46d61ead9985\n",
       "    fd27fc8176946666e0138595793f62e9\n",
       "    082f11c3f3b61bfdaf48542e405ffc8d\n",
       "    c2311b32c4ef2b824b2a36021e476eb1\n",
       "    e9219b6871d2983193d85eba53b13ffb\n",
       "    01af01828577f173672292a27647c435\n",
       "    aa18060786f380cfd5413ea8143b150d\n",
       "    04c8cf8e25668a9070abc170bf3a1c82\n",
       "level 2\n",
       "level 3\n",
       "level 4\n",
       "level 5\n",
       "level 6"
      ]
     },
     "execution_count": 29,
     "metadata": {},
     "output_type": "execute_result"
    }
   ],
   "source": [
    "trainer.box"
   ]
  },
  {
   "cell_type": "code",
   "execution_count": 18,
   "id": "3d39cbb8-3864-4d02-9d67-24f51971211e",
   "metadata": {},
   "outputs": [
    {
     "ename": "ValueError",
     "evalue": "iAt based indexing can only have integer indexers",
     "output_type": "error",
     "traceback": [
      "\u001b[1;31m---------------------------------------------------------------------------\u001b[0m",
      "\u001b[1;31mValueError\u001b[0m                                Traceback (most recent call last)",
      "\u001b[1;32m<ipython-input-18-1cfcaef06729>\u001b[0m in \u001b[0;36m<module>\u001b[1;34m\u001b[0m\n\u001b[1;32m----> 1\u001b[1;33m \u001b[0mtrainer\u001b[0m\u001b[1;33m.\u001b[0m\u001b[0mdb\u001b[0m\u001b[1;33m.\u001b[0m\u001b[0miat\u001b[0m\u001b[1;33m[\u001b[0m\u001b[1;34m'2adc174acd08fa65f1df3b8f22abdb43'\u001b[0m\u001b[1;33m,\u001b[0m\u001b[1;33m:\u001b[0m\u001b[1;33m]\u001b[0m\u001b[1;33m\u001b[0m\u001b[1;33m\u001b[0m\u001b[0m\n\u001b[0m",
      "\u001b[1;32m~\\Anaconda3\\envs\\voki\\lib\\site-packages\\pandas\\core\\indexing.py\u001b[0m in \u001b[0;36m__getitem__\u001b[1;34m(self, key)\u001b[0m\n\u001b[0;32m   2100\u001b[0m                 \u001b[1;32mraise\u001b[0m \u001b[0mValueError\u001b[0m\u001b[1;33m(\u001b[0m\u001b[1;34m\"Invalid call for scalar access (getting)!\"\u001b[0m\u001b[1;33m)\u001b[0m\u001b[1;33m\u001b[0m\u001b[1;33m\u001b[0m\u001b[0m\n\u001b[0;32m   2101\u001b[0m \u001b[1;33m\u001b[0m\u001b[0m\n\u001b[1;32m-> 2102\u001b[1;33m         \u001b[0mkey\u001b[0m \u001b[1;33m=\u001b[0m \u001b[0mself\u001b[0m\u001b[1;33m.\u001b[0m\u001b[0m_convert_key\u001b[0m\u001b[1;33m(\u001b[0m\u001b[0mkey\u001b[0m\u001b[1;33m)\u001b[0m\u001b[1;33m\u001b[0m\u001b[1;33m\u001b[0m\u001b[0m\n\u001b[0m\u001b[0;32m   2103\u001b[0m         \u001b[1;32mreturn\u001b[0m \u001b[0mself\u001b[0m\u001b[1;33m.\u001b[0m\u001b[0mobj\u001b[0m\u001b[1;33m.\u001b[0m\u001b[0m_get_value\u001b[0m\u001b[1;33m(\u001b[0m\u001b[1;33m*\u001b[0m\u001b[0mkey\u001b[0m\u001b[1;33m,\u001b[0m \u001b[0mtakeable\u001b[0m\u001b[1;33m=\u001b[0m\u001b[0mself\u001b[0m\u001b[1;33m.\u001b[0m\u001b[0m_takeable\u001b[0m\u001b[1;33m)\u001b[0m\u001b[1;33m\u001b[0m\u001b[1;33m\u001b[0m\u001b[0m\n\u001b[0;32m   2104\u001b[0m \u001b[1;33m\u001b[0m\u001b[0m\n",
      "\u001b[1;32m~\\Anaconda3\\envs\\voki\\lib\\site-packages\\pandas\\core\\indexing.py\u001b[0m in \u001b[0;36m_convert_key\u001b[1;34m(self, key, is_setter)\u001b[0m\n\u001b[0;32m   2178\u001b[0m         \u001b[1;32mfor\u001b[0m \u001b[0ma\u001b[0m\u001b[1;33m,\u001b[0m \u001b[0mi\u001b[0m \u001b[1;32min\u001b[0m \u001b[0mzip\u001b[0m\u001b[1;33m(\u001b[0m\u001b[0mself\u001b[0m\u001b[1;33m.\u001b[0m\u001b[0mobj\u001b[0m\u001b[1;33m.\u001b[0m\u001b[0maxes\u001b[0m\u001b[1;33m,\u001b[0m \u001b[0mkey\u001b[0m\u001b[1;33m)\u001b[0m\u001b[1;33m:\u001b[0m\u001b[1;33m\u001b[0m\u001b[1;33m\u001b[0m\u001b[0m\n\u001b[0;32m   2179\u001b[0m             \u001b[1;32mif\u001b[0m \u001b[1;32mnot\u001b[0m \u001b[0mis_integer\u001b[0m\u001b[1;33m(\u001b[0m\u001b[0mi\u001b[0m\u001b[1;33m)\u001b[0m\u001b[1;33m:\u001b[0m\u001b[1;33m\u001b[0m\u001b[1;33m\u001b[0m\u001b[0m\n\u001b[1;32m-> 2180\u001b[1;33m                 \u001b[1;32mraise\u001b[0m \u001b[0mValueError\u001b[0m\u001b[1;33m(\u001b[0m\u001b[1;34m\"iAt based indexing can only have integer indexers\"\u001b[0m\u001b[1;33m)\u001b[0m\u001b[1;33m\u001b[0m\u001b[1;33m\u001b[0m\u001b[0m\n\u001b[0m\u001b[0;32m   2181\u001b[0m         \u001b[1;32mreturn\u001b[0m \u001b[0mkey\u001b[0m\u001b[1;33m\u001b[0m\u001b[1;33m\u001b[0m\u001b[0m\n\u001b[0;32m   2182\u001b[0m \u001b[1;33m\u001b[0m\u001b[0m\n",
      "\u001b[1;31mValueError\u001b[0m: iAt based indexing can only have integer indexers"
     ]
    }
   ],
   "source": [
    "trainer.db.iat['2adc174acd08fa65f1df3b8f22abdb43',:]"
   ]
  },
  {
   "cell_type": "code",
   "execution_count": 9,
   "id": "a16ad1e2-d492-4ce8-8c56-ffd3a8c6bbc0",
   "metadata": {},
   "outputs": [
    {
     "data": {
      "text/plain": [
       "['2adc174acd08fa65f1df3b8f22abdb43',\n",
       " 'c0b716ccc9c4912796f42843354f270b',\n",
       " '54d9f89c97e39cbaf23893f701f06e0a',\n",
       " 'ce0efe3d25d6b36e8aba2ec454b48711',\n",
       " '52eea49610370c6968dbd549c2e5f6be',\n",
       " 'fc6f4b16c99f0cbcb3e6f18e169df236',\n",
       " '2ced79c45d1ccdbdd2e01726d87e1dae',\n",
       " '66932ff7f2834ad68c9a9dbfa393d3ec',\n",
       " '801dbee798c9ff4d905f7537f1fe0ded',\n",
       " 'ad158daf1773b311a1a61929c9bf019b',\n",
       " '8f3a49dfcc49000a238bd8d22d791daf',\n",
       " '1476a2e343d5a537d9f8810549026068',\n",
       " 'cc244c5a33ddab783d6b46d61ead9985',\n",
       " 'fd27fc8176946666e0138595793f62e9',\n",
       " '082f11c3f3b61bfdaf48542e405ffc8d',\n",
       " 'c2311b32c4ef2b824b2a36021e476eb1',\n",
       " 'e9219b6871d2983193d85eba53b13ffb',\n",
       " '01af01828577f173672292a27647c435',\n",
       " 'aa18060786f380cfd5413ea8143b150d',\n",
       " '04c8cf8e25668a9070abc170bf3a1c82']"
      ]
     },
     "execution_count": 9,
     "metadata": {},
     "output_type": "execute_result"
    }
   ],
   "source": [
    "trainer.box.get_all_cards()"
   ]
  },
  {
   "cell_type": "code",
   "execution_count": 10,
   "id": "a75dfe4e-acd3-42c3-b123-9b98a48aa8fc",
   "metadata": {},
   "outputs": [
    {
     "name": "stdout",
     "output_type": "stream",
     "text": [
      "level 1\n",
      "    eine Lektion\n",
      "    eins\n",
      "    männl. Vorname; hier: Name eines Papageis\n",
      "    in\n",
      "    Hauptstadt Frankreichs\n",
      "    Guten Tag!\n",
      "    eine Straße\n",
      "    das ist\n",
      "    Herr ...\n",
      "    Familienname\n",
      "    männl. Vorname\n",
      "    mit\n",
      "    und\n",
      "    ein Papagei\n",
      "    Arthur ist ein Papagei.\n",
      "    Familienname\n",
      "    ein Nachbar\n",
      "    Abkürzung für Monsieur Lacombe\n",
      "    Frau ...\n",
      "    Guten Tag! (zu einer Frau)\n",
      "level 2\n",
      "level 3\n",
      "level 4\n",
      "level 5\n",
      "level 6\n"
     ]
    }
   ],
   "source": [
    "trainer.show_box()"
   ]
  },
  {
   "cell_type": "code",
   "execution_count": 213,
   "id": "bdf2c69c-2ba1-44d7-9fd4-51a7f6323d04",
   "metadata": {},
   "outputs": [
    {
     "name": "stdin",
     "output_type": "stream",
     "text": [
      "überall partout\n"
     ]
    },
    {
     "name": "stdout",
     "output_type": "stream",
     "text": [
      "correct!\n",
      "congrats! card \"partout\" made it through the vokibox!\n"
     ]
    }
   ],
   "source": [
    "myvokibox.attempt_card_in_level(4,df);"
   ]
  },
  {
   "cell_type": "code",
   "execution_count": 189,
   "id": "c8cb4aaa-734a-47ac-bd18-e635d354a1aa",
   "metadata": {},
   "outputs": [
    {
     "name": "stdin",
     "output_type": "stream",
     "text": [
      "überall partout\n"
     ]
    },
    {
     "name": "stdout",
     "output_type": "stream",
     "text": [
      "correct!\n"
     ]
    }
   ],
   "source": [
    "myvokibox.attempt_card_in_level(0,df)"
   ]
  },
  {
   "cell_type": "code",
   "execution_count": 170,
   "id": "ee8ffb57-c6b4-420a-9e56-a6d8038f6acb",
   "metadata": {},
   "outputs": [
    {
     "data": {
      "text/plain": [
       "level 0\n",
       "    442165381189763710\n",
       "level 1\n",
       "level 2\n",
       "level 3\n",
       "level 4\n",
       "level 5\n",
       "    -4980411815809341467"
      ]
     },
     "execution_count": 170,
     "metadata": {},
     "output_type": "execute_result"
    }
   ],
   "source": [
    "myvokibox"
   ]
  },
  {
   "cell_type": "code",
   "execution_count": 165,
   "id": "b9b00a7b-8382-4d88-9e33-cf49bcd6f24a",
   "metadata": {},
   "outputs": [
    {
     "name": "stdout",
     "output_type": "stream",
     "text": [
      "vokibox lvl 1 is empty. you need to fill it first\n"
     ]
    }
   ],
   "source": [
    "myvokibox.attempt_card_in_level(1,df)"
   ]
  },
  {
   "cell_type": "code",
   "execution_count": 166,
   "id": "625dd71d-1bb5-4b02-aae4-9e4d9485b7f6",
   "metadata": {},
   "outputs": [
    {
     "name": "stdin",
     "output_type": "stream",
     "text": [
      "überall partout\n"
     ]
    },
    {
     "name": "stdout",
     "output_type": "stream",
     "text": [
      "correct!\n"
     ]
    }
   ],
   "source": [
    "myvokibox.attempt_card_in_level(2,df)"
   ]
  },
  {
   "cell_type": "code",
   "execution_count": 167,
   "id": "b42947cb-f504-4454-ab14-3c82ac4c7963",
   "metadata": {},
   "outputs": [
    {
     "name": "stdin",
     "output_type": "stream",
     "text": [
      "überall partout\n"
     ]
    },
    {
     "name": "stdout",
     "output_type": "stream",
     "text": [
      "correct!\n"
     ]
    }
   ],
   "source": [
    "myvokibox.attempt_card_in_level(3,df)"
   ]
  },
  {
   "cell_type": "code",
   "execution_count": 169,
   "id": "da394cd6-5d10-41d0-b754-0ac36532eedd",
   "metadata": {},
   "outputs": [
    {
     "name": "stdin",
     "output_type": "stream",
     "text": [
      "überall partout\n"
     ]
    },
    {
     "name": "stdout",
     "output_type": "stream",
     "text": [
      "correct!\n"
     ]
    }
   ],
   "source": [
    "myvokibox.attempt_card_in_level(4,df)"
   ]
  },
  {
   "cell_type": "code",
   "execution_count": 171,
   "id": "0f269960-3c13-4958-9f6d-36a60ddb8d17",
   "metadata": {},
   "outputs": [
    {
     "name": "stdin",
     "output_type": "stream",
     "text": [
      "überall partout\n"
     ]
    },
    {
     "name": "stdout",
     "output_type": "stream",
     "text": [
      "correct!\n",
      "congrats! card partout made it through thevokibox!\n"
     ]
    }
   ],
   "source": [
    "myvokibox.attempt_card_in_level(5,df)"
   ]
  },
  {
   "cell_type": "code",
   "execution_count": 172,
   "id": "9f2729c9-cb1c-4ace-b3d9-dbb9d6119d83",
   "metadata": {},
   "outputs": [
    {
     "data": {
      "text/plain": [
       "level 0\n",
       "    442165381189763710\n",
       "level 1\n",
       "level 2\n",
       "level 3\n",
       "level 4\n",
       "level 5"
      ]
     },
     "execution_count": 172,
     "metadata": {},
     "output_type": "execute_result"
    }
   ],
   "source": [
    "myvokibox"
   ]
  },
  {
   "cell_type": "code",
   "execution_count": 140,
   "id": "22bebbc3-e168-4517-92dd-c4bb11ecccf7",
   "metadata": {
    "jupyter": {
     "source_hidden": true
    },
    "tags": []
   },
   "outputs": [],
   "source": [
    "class card:\n",
    "    # a class for vocabulary cards\n",
    "\n",
    "    def __init__(self, props):\n",
    "        # the basic card that has typical properties of a vocabulary card\n",
    "        self.french_phrase = props['french']['phrase']\n",
    "        self.french_sentences =      props['french']['sentences']\n",
    "        self.french_comments = props['french']['comments']\n",
    "        self.german_phrase = props['german']['phrase']\n",
    "        self.german_sentences = props['german']['sentences']\n",
    "        self.german_comments = props['german']['comments']\n",
    "\n",
    "        self.created = datetime.datetime.now().replace(microsecond=0)\n",
    "        self.attempt_history = pd.DataFrame({'time': pd.Series(dtype='datetime64[ns]'),\n",
    "                                             'result': pd.Series(dtype='bool'),\n",
    "                                             'answer': pd.Series(dtype='str')})\n",
    "        self.id = hash(self.french_phrase)\n",
    "        self.streak = 0\n",
    "\n",
    "    def attempt(self, guess):\n",
    "        now = datetime.datetime.now().replace(microsecond=0)\n",
    "        result = self.check_attempt(guess) #true/False\n",
    "\n",
    "        self.attempt_history = self.attempt_history.append(pd.DataFrame({'time': [now], \n",
    "                                                                        'result': [result], \n",
    "                                                                        'answer': [guess]}))\n",
    "        if result:\n",
    "            self.streak += 1\n",
    "        else:\n",
    "            self.streak = np.floor(self.streak/2)\n",
    "\n",
    "    def check_attempt(self,answer):\n",
    "        if answer == self.french_phrase:\n",
    "            return True\n",
    "        text = input(f'type \"yes\" if you think they match:\\n {answer} \\n {self.french_phrase}\\n')\n",
    "        if text == 'yes':\n",
    "            return True\n",
    "        return False\n",
    "    \n",
    "    def __repr__(self):\n",
    "        \n",
    "        if len(self.attempt_history)>0:\n",
    "            last_attempt = ''\n",
    "        str_ = f\"\"\"voki card \n",
    "        {self.id}\n",
    "        french: {self.french_phrase}\n",
    "        german: {self.german_phrase} \n",
    "        last_attempt: \"\"\"\n",
    "        return str_\n",
    "    \n",
    "    \n",
    "\n",
    "\n",
    "    @staticmethod\n",
    "    def get_card_from_db(db,id):\n",
    "        pass\n",
    "    \n",
    "\n",
    "        \n",
    "    \n",
    "\n",
    "\n",
    "\n",
    "        \n",
    "\n",
    "        \n",
    "def main(dbfile):\n",
    "    #1 laod database\n",
    "    #2 run program\n",
    "    #3 save databas\n",
    "    pass\n",
    "\n"
   ]
  },
  {
   "cell_type": "code",
   "execution_count": 185,
   "id": "4db6107c-9839-4e20-8abe-8c7d31b3e194",
   "metadata": {},
   "outputs": [
    {
     "ename": "IndexError",
     "evalue": "single positional indexer is out-of-bounds",
     "output_type": "error",
     "traceback": [
      "\u001b[1;31m---------------------------------------------------------------------------\u001b[0m",
      "\u001b[1;31mIndexError\u001b[0m                                Traceback (most recent call last)",
      "\u001b[1;32m<ipython-input-185-e18eb4d2327d>\u001b[0m in \u001b[0;36m<module>\u001b[1;34m\u001b[0m\n\u001b[1;32m----> 1\u001b[1;33m \u001b[0mmycard\u001b[0m \u001b[1;33m=\u001b[0m \u001b[0mcard_from_id\u001b[0m\u001b[1;33m(\u001b[0m\u001b[1;36m4980411815809341467\u001b[0m\u001b[1;33m,\u001b[0m\u001b[0mdf\u001b[0m\u001b[1;33m)\u001b[0m\u001b[1;33m\u001b[0m\u001b[1;33m\u001b[0m\u001b[0m\n\u001b[0m",
      "\u001b[1;32m<ipython-input-173-74804daddfde>\u001b[0m in \u001b[0;36mcard_from_id\u001b[1;34m(ids, df)\u001b[0m\n\u001b[0;32m     75\u001b[0m     \u001b[1;32mif\u001b[0m \u001b[1;32mnot\u001b[0m \u001b[0misinstance\u001b[0m\u001b[1;33m(\u001b[0m\u001b[0mids\u001b[0m\u001b[1;33m,\u001b[0m \u001b[0mlist\u001b[0m\u001b[1;33m)\u001b[0m\u001b[1;33m:\u001b[0m\u001b[1;33m\u001b[0m\u001b[1;33m\u001b[0m\u001b[0m\n\u001b[0;32m     76\u001b[0m         \u001b[0mids\u001b[0m \u001b[1;33m=\u001b[0m \u001b[1;33m[\u001b[0m\u001b[0mids\u001b[0m\u001b[1;33m]\u001b[0m\u001b[1;33m\u001b[0m\u001b[1;33m\u001b[0m\u001b[0m\n\u001b[1;32m---> 77\u001b[1;33m     \u001b[1;32mreturn\u001b[0m \u001b[0mdf\u001b[0m\u001b[1;33m[\u001b[0m\u001b[0mdf\u001b[0m\u001b[1;33m[\u001b[0m\u001b[1;34m'id'\u001b[0m\u001b[1;33m]\u001b[0m\u001b[1;33m.\u001b[0m\u001b[0misin\u001b[0m\u001b[1;33m(\u001b[0m\u001b[0mids\u001b[0m\u001b[1;33m)\u001b[0m\u001b[1;33m]\u001b[0m\u001b[1;33m.\u001b[0m\u001b[0miloc\u001b[0m\u001b[1;33m[\u001b[0m\u001b[1;36m0\u001b[0m\u001b[1;33m]\u001b[0m\u001b[1;33m.\u001b[0m\u001b[0mto_dict\u001b[0m\u001b[1;33m(\u001b[0m\u001b[1;33m)\u001b[0m\u001b[1;33m\u001b[0m\u001b[1;33m\u001b[0m\u001b[0m\n\u001b[0m\u001b[0;32m     78\u001b[0m \u001b[1;33m\u001b[0m\u001b[0m\n\u001b[0;32m     79\u001b[0m \u001b[1;33m\u001b[0m\u001b[0m\n",
      "\u001b[1;32mC:\\ProgramData\\Anaconda3\\envs\\voki\\lib\\site-packages\\pandas\\core\\indexing.py\u001b[0m in \u001b[0;36m__getitem__\u001b[1;34m(self, key)\u001b[0m\n\u001b[0;32m    893\u001b[0m \u001b[1;33m\u001b[0m\u001b[0m\n\u001b[0;32m    894\u001b[0m             \u001b[0mmaybe_callable\u001b[0m \u001b[1;33m=\u001b[0m \u001b[0mcom\u001b[0m\u001b[1;33m.\u001b[0m\u001b[0mapply_if_callable\u001b[0m\u001b[1;33m(\u001b[0m\u001b[0mkey\u001b[0m\u001b[1;33m,\u001b[0m \u001b[0mself\u001b[0m\u001b[1;33m.\u001b[0m\u001b[0mobj\u001b[0m\u001b[1;33m)\u001b[0m\u001b[1;33m\u001b[0m\u001b[1;33m\u001b[0m\u001b[0m\n\u001b[1;32m--> 895\u001b[1;33m             \u001b[1;32mreturn\u001b[0m \u001b[0mself\u001b[0m\u001b[1;33m.\u001b[0m\u001b[0m_getitem_axis\u001b[0m\u001b[1;33m(\u001b[0m\u001b[0mmaybe_callable\u001b[0m\u001b[1;33m,\u001b[0m \u001b[0maxis\u001b[0m\u001b[1;33m=\u001b[0m\u001b[0maxis\u001b[0m\u001b[1;33m)\u001b[0m\u001b[1;33m\u001b[0m\u001b[1;33m\u001b[0m\u001b[0m\n\u001b[0m\u001b[0;32m    896\u001b[0m \u001b[1;33m\u001b[0m\u001b[0m\n\u001b[0;32m    897\u001b[0m     \u001b[1;32mdef\u001b[0m \u001b[0m_is_scalar_access\u001b[0m\u001b[1;33m(\u001b[0m\u001b[0mself\u001b[0m\u001b[1;33m,\u001b[0m \u001b[0mkey\u001b[0m\u001b[1;33m:\u001b[0m \u001b[0mTuple\u001b[0m\u001b[1;33m)\u001b[0m\u001b[1;33m:\u001b[0m\u001b[1;33m\u001b[0m\u001b[1;33m\u001b[0m\u001b[0m\n",
      "\u001b[1;32mC:\\ProgramData\\Anaconda3\\envs\\voki\\lib\\site-packages\\pandas\\core\\indexing.py\u001b[0m in \u001b[0;36m_getitem_axis\u001b[1;34m(self, key, axis)\u001b[0m\n\u001b[0;32m   1499\u001b[0m \u001b[1;33m\u001b[0m\u001b[0m\n\u001b[0;32m   1500\u001b[0m             \u001b[1;31m# validate the location\u001b[0m\u001b[1;33m\u001b[0m\u001b[1;33m\u001b[0m\u001b[0m\n\u001b[1;32m-> 1501\u001b[1;33m             \u001b[0mself\u001b[0m\u001b[1;33m.\u001b[0m\u001b[0m_validate_integer\u001b[0m\u001b[1;33m(\u001b[0m\u001b[0mkey\u001b[0m\u001b[1;33m,\u001b[0m \u001b[0maxis\u001b[0m\u001b[1;33m)\u001b[0m\u001b[1;33m\u001b[0m\u001b[1;33m\u001b[0m\u001b[0m\n\u001b[0m\u001b[0;32m   1502\u001b[0m \u001b[1;33m\u001b[0m\u001b[0m\n\u001b[0;32m   1503\u001b[0m             \u001b[1;32mreturn\u001b[0m \u001b[0mself\u001b[0m\u001b[1;33m.\u001b[0m\u001b[0mobj\u001b[0m\u001b[1;33m.\u001b[0m\u001b[0m_ixs\u001b[0m\u001b[1;33m(\u001b[0m\u001b[0mkey\u001b[0m\u001b[1;33m,\u001b[0m \u001b[0maxis\u001b[0m\u001b[1;33m=\u001b[0m\u001b[0maxis\u001b[0m\u001b[1;33m)\u001b[0m\u001b[1;33m\u001b[0m\u001b[1;33m\u001b[0m\u001b[0m\n",
      "\u001b[1;32mC:\\ProgramData\\Anaconda3\\envs\\voki\\lib\\site-packages\\pandas\\core\\indexing.py\u001b[0m in \u001b[0;36m_validate_integer\u001b[1;34m(self, key, axis)\u001b[0m\n\u001b[0;32m   1442\u001b[0m         \u001b[0mlen_axis\u001b[0m \u001b[1;33m=\u001b[0m \u001b[0mlen\u001b[0m\u001b[1;33m(\u001b[0m\u001b[0mself\u001b[0m\u001b[1;33m.\u001b[0m\u001b[0mobj\u001b[0m\u001b[1;33m.\u001b[0m\u001b[0m_get_axis\u001b[0m\u001b[1;33m(\u001b[0m\u001b[0maxis\u001b[0m\u001b[1;33m)\u001b[0m\u001b[1;33m)\u001b[0m\u001b[1;33m\u001b[0m\u001b[1;33m\u001b[0m\u001b[0m\n\u001b[0;32m   1443\u001b[0m         \u001b[1;32mif\u001b[0m \u001b[0mkey\u001b[0m \u001b[1;33m>=\u001b[0m \u001b[0mlen_axis\u001b[0m \u001b[1;32mor\u001b[0m \u001b[0mkey\u001b[0m \u001b[1;33m<\u001b[0m \u001b[1;33m-\u001b[0m\u001b[0mlen_axis\u001b[0m\u001b[1;33m:\u001b[0m\u001b[1;33m\u001b[0m\u001b[1;33m\u001b[0m\u001b[0m\n\u001b[1;32m-> 1444\u001b[1;33m             \u001b[1;32mraise\u001b[0m \u001b[0mIndexError\u001b[0m\u001b[1;33m(\u001b[0m\u001b[1;34m\"single positional indexer is out-of-bounds\"\u001b[0m\u001b[1;33m)\u001b[0m\u001b[1;33m\u001b[0m\u001b[1;33m\u001b[0m\u001b[0m\n\u001b[0m\u001b[0;32m   1445\u001b[0m \u001b[1;33m\u001b[0m\u001b[0m\n\u001b[0;32m   1446\u001b[0m     \u001b[1;31m# -------------------------------------------------------------------\u001b[0m\u001b[1;33m\u001b[0m\u001b[1;33m\u001b[0m\u001b[0m\n",
      "\u001b[1;31mIndexError\u001b[0m: single positional indexer is out-of-bounds"
     ]
    }
   ],
   "source": [
    "mycard = card_from_id(4980411815809341467,df)"
   ]
  },
  {
   "cell_type": "code",
   "execution_count": 177,
   "id": "3ed339fe-8224-4c82-98f0-a98b94575c05",
   "metadata": {},
   "outputs": [
    {
     "data": {
      "text/plain": [
       "{'french_phrase': 'la rue',\n",
       " 'french_sentences': ['Dans la rue du Sentier, la mode est partout.'],\n",
       " 'french_comments': [],\n",
       " 'german_phrase': 'Strasse',\n",
       " 'german_sentences': [],\n",
       " 'german_comments': [],\n",
       " 'created': Timestamp('2021-10-31 21:20:50'),\n",
       " 'attempt_history': Empty DataFrame\n",
       " Columns: [time, result, answer]\n",
       " Index: [],\n",
       " 'streak': 0,\n",
       " 'id': 442165381189763710}"
      ]
     },
     "execution_count": 177,
     "metadata": {},
     "output_type": "execute_result"
    }
   ],
   "source": [
    "mycard"
   ]
  },
  {
   "cell_type": "code",
   "execution_count": 179,
   "id": "62844436-dd60-4a9c-8447-7328ed22d1aa",
   "metadata": {},
   "outputs": [
    {
     "data": {
      "text/html": [
       "<div>\n",
       "<style scoped>\n",
       "    .dataframe tbody tr th:only-of-type {\n",
       "        vertical-align: middle;\n",
       "    }\n",
       "\n",
       "    .dataframe tbody tr th {\n",
       "        vertical-align: top;\n",
       "    }\n",
       "\n",
       "    .dataframe thead th {\n",
       "        text-align: right;\n",
       "    }\n",
       "</style>\n",
       "<table border=\"1\" class=\"dataframe\">\n",
       "  <thead>\n",
       "    <tr style=\"text-align: right;\">\n",
       "      <th></th>\n",
       "      <th>french_phrase</th>\n",
       "      <th>french_sentences</th>\n",
       "      <th>french_comments</th>\n",
       "      <th>german_phrase</th>\n",
       "      <th>german_sentences</th>\n",
       "      <th>german_comments</th>\n",
       "      <th>created</th>\n",
       "      <th>attempt_history</th>\n",
       "      <th>streak</th>\n",
       "      <th>id</th>\n",
       "    </tr>\n",
       "  </thead>\n",
       "  <tbody>\n",
       "    <tr>\n",
       "      <th>0</th>\n",
       "      <td>la rue</td>\n",
       "      <td>[Dans la rue du Sentier, la mode est partout.]</td>\n",
       "      <td>[]</td>\n",
       "      <td>Strasse</td>\n",
       "      <td>[]</td>\n",
       "      <td>[]</td>\n",
       "      <td>2021-10-31 21:20:50</td>\n",
       "      <td>Empty DataFrame\n",
       "Columns: [time, result, answer...</td>\n",
       "      <td>0</td>\n",
       "      <td>442165381189763710</td>\n",
       "    </tr>\n",
       "  </tbody>\n",
       "</table>\n",
       "</div>"
      ],
      "text/plain": [
       "  french_phrase                                french_sentences  \\\n",
       "0        la rue  [Dans la rue du Sentier, la mode est partout.]   \n",
       "\n",
       "  french_comments german_phrase german_sentences german_comments  \\\n",
       "0              []       Strasse               []              []   \n",
       "\n",
       "              created                                    attempt_history  \\\n",
       "0 2021-10-31 21:20:50  Empty DataFrame\n",
       "Columns: [time, result, answer...   \n",
       "\n",
       "   streak                  id  \n",
       "0       0  442165381189763710  "
      ]
     },
     "execution_count": 179,
     "metadata": {},
     "output_type": "execute_result"
    }
   ],
   "source": [
    "pd.DataFrame({key: [value] for key,value in mycard.items()})"
   ]
  },
  {
   "cell_type": "code",
   "execution_count": 170,
   "id": "f9805b0b-8c33-4f87-b3f5-92bf7c1568a6",
   "metadata": {},
   "outputs": [],
   "source": [
    "root = Path.cwd()\n",
    "data_dir = root.parent / 'data'\n",
    "voki_db_file = data_dir / 'voki_db.pkl'\n",
    "box_db_file = data_dir / 'box_db.pkl'\n",
    "\n",
    "# main()\n",
    "\n",
    "# df_voki = pd.read_pickle(voki_db_file)\n",
    "# voki_box = box_db_load(box_db_file)"
   ]
  },
  {
   "cell_type": "code",
   "execution_count": 161,
   "id": "1195d568-fd85-4929-90aa-b686a1cc1dc9",
   "metadata": {},
   "outputs": [
    {
     "data": {
      "text/plain": [
       "level 0\n",
       "    5116320665103601376\n",
       "    463857425755945451\n",
       "level 1\n",
       "level 2\n",
       "level 3\n",
       "level 4\n",
       "level 5"
      ]
     },
     "execution_count": 161,
     "metadata": {},
     "output_type": "execute_result"
    }
   ],
   "source": [
    "voki_box"
   ]
  },
  {
   "cell_type": "code",
   "execution_count": 162,
   "id": "ae6994ac-36f4-4430-a352-b93460bd65e4",
   "metadata": {},
   "outputs": [
    {
     "data": {
      "text/html": [
       "<div>\n",
       "<style scoped>\n",
       "    .dataframe tbody tr th:only-of-type {\n",
       "        vertical-align: middle;\n",
       "    }\n",
       "\n",
       "    .dataframe tbody tr th {\n",
       "        vertical-align: top;\n",
       "    }\n",
       "\n",
       "    .dataframe thead th {\n",
       "        text-align: right;\n",
       "    }\n",
       "</style>\n",
       "<table border=\"1\" class=\"dataframe\">\n",
       "  <thead>\n",
       "    <tr style=\"text-align: right;\">\n",
       "      <th></th>\n",
       "      <th>french_phrase</th>\n",
       "      <th>french_sentences</th>\n",
       "      <th>french_comments</th>\n",
       "      <th>german_phrase</th>\n",
       "      <th>german_sentences</th>\n",
       "      <th>created</th>\n",
       "      <th>attempt_history</th>\n",
       "      <th>id</th>\n",
       "      <th>streak</th>\n",
       "    </tr>\n",
       "  </thead>\n",
       "  <tbody>\n",
       "    <tr>\n",
       "      <th>0</th>\n",
       "      <td>partout</td>\n",
       "      <td>[Dans la rue du Sentier, la mode est partout.]</td>\n",
       "      <td>[]</td>\n",
       "      <td>überall</td>\n",
       "      <td>[]</td>\n",
       "      <td>2021-10-31 13:48:03</td>\n",
       "      <td>Empty DataFrame\n",
       "Columns: [time, result, answer...</td>\n",
       "      <td>463857425755945451</td>\n",
       "      <td>0</td>\n",
       "    </tr>\n",
       "    <tr>\n",
       "      <th>0</th>\n",
       "      <td>la rue</td>\n",
       "      <td>[Julien habite dans la rue Daguerre.]</td>\n",
       "      <td>[]</td>\n",
       "      <td>Strasse</td>\n",
       "      <td>[]</td>\n",
       "      <td>2021-10-31 13:48:04</td>\n",
       "      <td>Empty DataFrame\n",
       "Columns: [time, result, answer...</td>\n",
       "      <td>5116320665103601376</td>\n",
       "      <td>0</td>\n",
       "    </tr>\n",
       "  </tbody>\n",
       "</table>\n",
       "</div>"
      ],
      "text/plain": [
       "  french_phrase                                french_sentences  \\\n",
       "0       partout  [Dans la rue du Sentier, la mode est partout.]   \n",
       "0        la rue           [Julien habite dans la rue Daguerre.]   \n",
       "\n",
       "  french_comments german_phrase german_sentences             created  \\\n",
       "0              []       überall               [] 2021-10-31 13:48:03   \n",
       "0              []       Strasse               [] 2021-10-31 13:48:04   \n",
       "\n",
       "                                     attempt_history                   id  \\\n",
       "0  Empty DataFrame\n",
       "Columns: [time, result, answer...   463857425755945451   \n",
       "0  Empty DataFrame\n",
       "Columns: [time, result, answer...  5116320665103601376   \n",
       "\n",
       "   streak  \n",
       "0       0  \n",
       "0       0  "
      ]
     },
     "execution_count": 162,
     "metadata": {},
     "output_type": "execute_result"
    }
   ],
   "source": [
    "df_voki"
   ]
  },
  {
   "cell_type": "code",
   "execution_count": 115,
   "id": "b7fab10f-67d6-4410-a8d5-6a760d3da916",
   "metadata": {},
   "outputs": [
    {
     "data": {
      "text/plain": [
       "level 0\n",
       "    5116320665103601376\n",
       "    463857425755945451\n",
       "level 1\n",
       "level 2\n",
       "level 3\n",
       "level 4\n",
       "level 5"
      ]
     },
     "execution_count": 115,
     "metadata": {},
     "output_type": "execute_result"
    }
   ],
   "source": [
    "my_vbox.onboard_card(voki_card1.id)\n",
    "my_vbox"
   ]
  },
  {
   "cell_type": "code",
   "execution_count": 121,
   "id": "24294294-1c5c-4a24-a9be-e0869e185000",
   "metadata": {},
   "outputs": [
    {
     "data": {
      "text/plain": [
       "level 0\n",
       "    5116320665103601376\n",
       "    463857425755945451\n",
       "level 1\n",
       "level 2\n",
       "level 3\n",
       "level 4\n",
       "level 5"
      ]
     },
     "execution_count": 121,
     "metadata": {},
     "output_type": "execute_result"
    }
   ],
   "source": [
    "box_db_load(box_db_file)"
   ]
  },
  {
   "cell_type": "code",
   "execution_count": 3,
   "id": "ea0d94c7-ed6e-4dea-aefc-ddfd7b2e6c6a",
   "metadata": {},
   "outputs": [],
   "source": [
    "card_1_dict = {'french_phrase': 'partout', \n",
    "                'french_sentences': ['Dans la rue du Sentier, la mode est partout.'],\n",
    "                'french_comments':[],\n",
    "                'german_phrase' :'überall',\n",
    "                'german_sentences':[],\n",
    "                'german_comments':[],\n",
    "                'created': datetime.datetime.now().replace(microsecond=0),\n",
    "                'attempt_history' : pd.DataFrame({'time': pd.Series(dtype='datetime64[ns]'),\n",
    "                                             'result': pd.Series(dtype='bool'),\n",
    "                                             'answer': pd.Series(dtype='str')})\n",
    "                'streak': 0\n",
    "                'id': hash('partout')\n",
    "              }\n",
    "                     \n",
    "card_2_properties = {'french':{'phrase': 'la rue', \n",
    "                               'sentences': ['Julien habite dans la rue Daguerre.'],\n",
    "                               'comments':[]},\n",
    "                     'german':{'phrase':'Strasse',\n",
    "                               'sentences':[],\n",
    "                               'comments':[]},\n",
    "                    }   "
   ]
  },
  {
   "cell_type": "code",
   "execution_count": 168,
   "id": "9bc14304-f178-4005-8a6e-2a160c0c34d3",
   "metadata": {},
   "outputs": [
    {
     "data": {
      "text/plain": [
       "[[]]"
      ]
     },
     "execution_count": 168,
     "metadata": {},
     "output_type": "execute_result"
    }
   ],
   "source": [
    "a=[[]]\n",
    "a"
   ]
  },
  {
   "cell_type": "code",
   "execution_count": 4,
   "id": "47eecce0-b791-4196-af51-a8345551abb1",
   "metadata": {},
   "outputs": [
    {
     "data": {
      "text/plain": [
       "voki card \n",
       "        463857425755945451\n",
       "        french: partout\n",
       "        german: überall \n",
       "        last_attempt: "
      ]
     },
     "execution_count": 4,
     "metadata": {},
     "output_type": "execute_result"
    }
   ],
   "source": [
    "voki_card1=card(card_1_properties)\n",
    "voki_card1"
   ]
  },
  {
   "cell_type": "code",
   "execution_count": 5,
   "id": "2f089e0e-681e-4732-b494-3b9d21aba741",
   "metadata": {},
   "outputs": [
    {
     "data": {
      "text/plain": [
       "voki card \n",
       "        5116320665103601376\n",
       "        french: la rue\n",
       "        german: Strasse \n",
       "        last_attempt: "
      ]
     },
     "execution_count": 5,
     "metadata": {},
     "output_type": "execute_result"
    }
   ],
   "source": [
    "voki_card2=card(card_2_properties)\n",
    "voki_card2"
   ]
  },
  {
   "cell_type": "code",
   "execution_count": 91,
   "id": "4e14808b-5e1e-4bde-9674-f2557f91c9b6",
   "metadata": {},
   "outputs": [
    {
     "name": "stdin",
     "output_type": "stream",
     "text": [
      "type \"yes\" if you think they match:\n",
      " partout2 \n",
      " partout no\n"
     ]
    }
   ],
   "source": [
    "voki_card1.attempt('partout2'                  )\n"
   ]
  },
  {
   "cell_type": "code",
   "execution_count": 92,
   "id": "99b5d5c0-d080-425f-9fba-c53cee5abcb2",
   "metadata": {},
   "outputs": [
    {
     "data": {
      "text/html": [
       "<div>\n",
       "<style scoped>\n",
       "    .dataframe tbody tr th:only-of-type {\n",
       "        vertical-align: middle;\n",
       "    }\n",
       "\n",
       "    .dataframe tbody tr th {\n",
       "        vertical-align: top;\n",
       "    }\n",
       "\n",
       "    .dataframe thead th {\n",
       "        text-align: right;\n",
       "    }\n",
       "</style>\n",
       "<table border=\"1\" class=\"dataframe\">\n",
       "  <thead>\n",
       "    <tr style=\"text-align: right;\">\n",
       "      <th></th>\n",
       "      <th>time</th>\n",
       "      <th>result</th>\n",
       "      <th>answer</th>\n",
       "    </tr>\n",
       "  </thead>\n",
       "  <tbody>\n",
       "    <tr>\n",
       "      <th>0</th>\n",
       "      <td>2021-10-31 08:58:40</td>\n",
       "      <td>1.0</td>\n",
       "      <td>partout</td>\n",
       "    </tr>\n",
       "    <tr>\n",
       "      <th>0</th>\n",
       "      <td>2021-10-31 09:17:37</td>\n",
       "      <td>1.0</td>\n",
       "      <td>partout</td>\n",
       "    </tr>\n",
       "    <tr>\n",
       "      <th>0</th>\n",
       "      <td>2021-10-31 09:17:40</td>\n",
       "      <td>0.0</td>\n",
       "      <td>partout2</td>\n",
       "    </tr>\n",
       "  </tbody>\n",
       "</table>\n",
       "</div>"
      ],
      "text/plain": [
       "                 time  result    answer\n",
       "0 2021-10-31 08:58:40     1.0   partout\n",
       "0 2021-10-31 09:17:37     1.0   partout\n",
       "0 2021-10-31 09:17:40     0.0  partout2"
      ]
     },
     "execution_count": 92,
     "metadata": {},
     "output_type": "execute_result"
    }
   ],
   "source": [
    "voki_card1.attempt_history"
   ]
  },
  {
   "cell_type": "code",
   "execution_count": 16,
   "id": "1ce3f190-c91b-4afb-8050-8619a6d2442c",
   "metadata": {},
   "outputs": [
    {
     "ename": "TypeError",
     "evalue": "to_df() got an unexpected keyword argument 'index'",
     "output_type": "error",
     "traceback": [
      "\u001b[1;31m---------------------------------------------------------------------------\u001b[0m",
      "\u001b[1;31mTypeError\u001b[0m                                 Traceback (most recent call last)",
      "\u001b[1;32m<ipython-input-24-139fe0296a6d>\u001b[0m in \u001b[0;36m<module>\u001b[1;34m\u001b[0m\n\u001b[1;32m----> 1\u001b[1;33m \u001b[0mpd\u001b[0m\u001b[1;33m.\u001b[0m\u001b[0mDataFrame\u001b[0m\u001b[1;33m(\u001b[0m\u001b[0mvoki_card1\u001b[0m\u001b[1;33m.\u001b[0m\u001b[0mto_df\u001b[0m\u001b[1;33m(\u001b[0m\u001b[0mindex\u001b[0m\u001b[1;33m=\u001b[0m\u001b[1;32mFalse\u001b[0m\u001b[1;33m)\u001b[0m\u001b[1;33m)\u001b[0m\u001b[1;33m\u001b[0m\u001b[1;33m\u001b[0m\u001b[0m\n\u001b[0m",
      "\u001b[1;31mTypeError\u001b[0m: to_df() got an unexpected keyword argument 'index'"
     ]
    }
   ],
   "source": [
    "pd.DataFrame(voki_card1.to_df())"
   ]
  },
  {
   "cell_type": "code",
   "execution_count": 19,
   "id": "04f71e9d-00cb-4a9d-87b3-de405dcd686c",
   "metadata": {},
   "outputs": [],
   "source": [
    "df_list = [pd.DataFrame(voki_card1.to_df()),\n",
    "           pd.DataFrame(voki_card2.to_df())]\n",
    "df_voki = pd.concat(df_list)"
   ]
  },
  {
   "cell_type": "code",
   "execution_count": 32,
   "id": "b75dc13d-23ac-49b7-85c1-a06b30e47b10",
   "metadata": {},
   "outputs": [],
   "source": [
    "df_voki.to_pickle(voki_db_file)"
   ]
  },
  {
   "cell_type": "code",
   "execution_count": 26,
   "id": "f204c14a-b4b3-4338-a3ab-3de5c44f154a",
   "metadata": {},
   "outputs": [
    {
     "data": {
      "text/html": [
       "<div>\n",
       "<style scoped>\n",
       "    .dataframe tbody tr th:only-of-type {\n",
       "        vertical-align: middle;\n",
       "    }\n",
       "\n",
       "    .dataframe tbody tr th {\n",
       "        vertical-align: top;\n",
       "    }\n",
       "\n",
       "    .dataframe thead th {\n",
       "        text-align: right;\n",
       "    }\n",
       "</style>\n",
       "<table border=\"1\" class=\"dataframe\">\n",
       "  <thead>\n",
       "    <tr style=\"text-align: right;\">\n",
       "      <th></th>\n",
       "      <th>french_phrase</th>\n",
       "      <th>french_sentences</th>\n",
       "      <th>french_comments</th>\n",
       "      <th>german_phrase</th>\n",
       "      <th>german_sentences</th>\n",
       "      <th>created</th>\n",
       "      <th>attempt_history</th>\n",
       "      <th>id</th>\n",
       "      <th>streak</th>\n",
       "    </tr>\n",
       "  </thead>\n",
       "  <tbody>\n",
       "    <tr>\n",
       "      <th>0</th>\n",
       "      <td>partout</td>\n",
       "      <td>[Dans la rue du Sentier, la mode est partout.]</td>\n",
       "      <td>[]</td>\n",
       "      <td>überall</td>\n",
       "      <td>[]</td>\n",
       "      <td>2021-10-31 13:48:03</td>\n",
       "      <td>Empty DataFrame\n",
       "Columns: [time, result, answer...</td>\n",
       "      <td>463857425755945451</td>\n",
       "      <td>0</td>\n",
       "    </tr>\n",
       "    <tr>\n",
       "      <th>0</th>\n",
       "      <td>la rue</td>\n",
       "      <td>[Julien habite dans la rue Daguerre.]</td>\n",
       "      <td>[]</td>\n",
       "      <td>Strasse</td>\n",
       "      <td>[]</td>\n",
       "      <td>2021-10-31 13:48:04</td>\n",
       "      <td>Empty DataFrame\n",
       "Columns: [time, result, answer...</td>\n",
       "      <td>5116320665103601376</td>\n",
       "      <td>0</td>\n",
       "    </tr>\n",
       "  </tbody>\n",
       "</table>\n",
       "</div>"
      ],
      "text/plain": [
       "  french_phrase                                french_sentences  \\\n",
       "0       partout  [Dans la rue du Sentier, la mode est partout.]   \n",
       "0        la rue           [Julien habite dans la rue Daguerre.]   \n",
       "\n",
       "  french_comments german_phrase german_sentences             created  \\\n",
       "0              []       überall               [] 2021-10-31 13:48:03   \n",
       "0              []       Strasse               [] 2021-10-31 13:48:04   \n",
       "\n",
       "                                     attempt_history                   id  \\\n",
       "0  Empty DataFrame\n",
       "Columns: [time, result, answer...   463857425755945451   \n",
       "0  Empty DataFrame\n",
       "Columns: [time, result, answer...  5116320665103601376   \n",
       "\n",
       "   streak  \n",
       "0       0  \n",
       "0       0  "
      ]
     },
     "execution_count": 26,
     "metadata": {},
     "output_type": "execute_result"
    }
   ],
   "source": [
    "df_voki"
   ]
  },
  {
   "cell_type": "code",
   "execution_count": 35,
   "id": "8f3daac9-8956-4eb4-81d1-ae4c5cd2a7b4",
   "metadata": {},
   "outputs": [
    {
     "data": {
      "text/html": [
       "<div>\n",
       "<style scoped>\n",
       "    .dataframe tbody tr th:only-of-type {\n",
       "        vertical-align: middle;\n",
       "    }\n",
       "\n",
       "    .dataframe tbody tr th {\n",
       "        vertical-align: top;\n",
       "    }\n",
       "\n",
       "    .dataframe thead th {\n",
       "        text-align: right;\n",
       "    }\n",
       "</style>\n",
       "<table border=\"1\" class=\"dataframe\">\n",
       "  <thead>\n",
       "    <tr style=\"text-align: right;\">\n",
       "      <th></th>\n",
       "      <th>french_phrase</th>\n",
       "      <th>french_sentences</th>\n",
       "      <th>french_comments</th>\n",
       "      <th>german_phrase</th>\n",
       "      <th>german_sentences</th>\n",
       "      <th>created</th>\n",
       "      <th>attempt_history</th>\n",
       "      <th>id</th>\n",
       "      <th>streak</th>\n",
       "    </tr>\n",
       "  </thead>\n",
       "  <tbody>\n",
       "    <tr>\n",
       "      <th>0</th>\n",
       "      <td>partout</td>\n",
       "      <td>[Dans la rue du Sentier, la mode est partout.]</td>\n",
       "      <td>[]</td>\n",
       "      <td>überall</td>\n",
       "      <td>[]</td>\n",
       "      <td>2021-10-31 13:48:03</td>\n",
       "      <td>Empty DataFrame\n",
       "Columns: [time, result, answer...</td>\n",
       "      <td>463857425755945451</td>\n",
       "      <td>0</td>\n",
       "    </tr>\n",
       "    <tr>\n",
       "      <th>0</th>\n",
       "      <td>la rue</td>\n",
       "      <td>[Julien habite dans la rue Daguerre.]</td>\n",
       "      <td>[]</td>\n",
       "      <td>Strasse</td>\n",
       "      <td>[]</td>\n",
       "      <td>2021-10-31 13:48:04</td>\n",
       "      <td>Empty DataFrame\n",
       "Columns: [time, result, answer...</td>\n",
       "      <td>5116320665103601376</td>\n",
       "      <td>0</td>\n",
       "    </tr>\n",
       "  </tbody>\n",
       "</table>\n",
       "</div>"
      ],
      "text/plain": [
       "  french_phrase                                french_sentences  \\\n",
       "0       partout  [Dans la rue du Sentier, la mode est partout.]   \n",
       "0        la rue           [Julien habite dans la rue Daguerre.]   \n",
       "\n",
       "  french_comments german_phrase german_sentences             created  \\\n",
       "0              []       überall               [] 2021-10-31 13:48:03   \n",
       "0              []       Strasse               [] 2021-10-31 13:48:04   \n",
       "\n",
       "                                     attempt_history                   id  \\\n",
       "0  Empty DataFrame\n",
       "Columns: [time, result, answer...   463857425755945451   \n",
       "0  Empty DataFrame\n",
       "Columns: [time, result, answer...  5116320665103601376   \n",
       "\n",
       "   streak  \n",
       "0       0  \n",
       "0       0  "
      ]
     },
     "execution_count": 35,
     "metadata": {},
     "output_type": "execute_result"
    }
   ],
   "source": [
    "a=pd.read_pickle(voki_db_file)\n",
    "a"
   ]
  },
  {
   "cell_type": "code",
   "execution_count": null,
   "id": "4f640143-a72a-46f5-8af2-43459eb5ba39",
   "metadata": {},
   "outputs": [],
   "source": [
    "class Parent:\n",
    "    def __init__(self,parent_id,member_id):\n",
    "        self.parent_id = parent_id\n",
    "        self.member = Member(member_id)\n",
    "\n",
    "    def who_is_your_member(self):\n",
    "        print(self.member)\n",
    "        \n",
    "class Member: # not inhereting from Parent\n",
    "    def __init__(self, member_id):\n",
    "        self.member_id = member_id\n",
    "        \n",
    "    def __repr__(self):\n",
    "        return f'Member {self.member_id} of parent {self.parent_id}\n",
    "        \n",
    "    \n",
    "    \n",
    "myparent = Parent(1,2)\n",
    "myparent.who_is_your_member()\n",
    "\n",
    ">> Child 1 of parent 2"
   ]
  },
  {
   "cell_type": "code",
   "execution_count": null,
   "id": "d1815217-3885-4c4f-82d3-1e9ea329d0bd",
   "metadata": {},
   "outputs": [],
   "source": [
    "class VocTrainer:\n",
    "    def __init__(self,pandas_df):\n",
    "        self.vocabulary_databas = pandas_df\n",
    "        self.trainingbox = VocTrainingBox()\n",
    "        self.trainingbox.fill(self.vocabulary_databas)\n",
    "        \n",
    "        \n"
   ]
  }
 ],
 "metadata": {
  "kernelspec": {
   "display_name": "Python 3 (ipykernel)",
   "language": "python",
   "name": "python3"
  },
  "language_info": {
   "codemirror_mode": {
    "name": "ipython",
    "version": 3
   },
   "file_extension": ".py",
   "mimetype": "text/x-python",
   "name": "python",
   "nbconvert_exporter": "python",
   "pygments_lexer": "ipython3",
   "version": "3.9.10"
  }
 },
 "nbformat": 4,
 "nbformat_minor": 5
}
