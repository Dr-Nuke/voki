{
 "cells": [
  {
   "cell_type": "markdown",
   "id": "9597e4d5-e461-4180-a067-ecbb7fb67a01",
   "metadata": {},
   "source": [
    "# my voki tester notebook"
   ]
  },
  {
   "cell_type": "code",
   "execution_count": 2,
   "id": "eae12cd3-3039-4a43-b4aa-0f60488b3dab",
   "metadata": {},
   "outputs": [],
   "source": [
    "import datetime\n",
    "import numpy as np\n",
    "import pandas as pd\n",
    "import os\n",
    "from pathlib import Path\n",
    "import pickle"
   ]
  },
  {
   "cell_type": "code",
   "execution_count": 209,
   "id": "3f5a16f5-5870-4cbd-9b36-18cb85f3a649",
   "metadata": {},
   "outputs": [],
   "source": [
    "class voki_db:\n",
    "    def __init__(self, df=None):\n",
    "        pass\n",
    "\n",
    "\n",
    "def card_id(card):\n",
    "    return card['id'][0]\n",
    "\n",
    "\n",
    "class vokibox():\n",
    "    def __init__(self, n, max_cards=50):  # box_db,voki_db\n",
    "\n",
    "        self.levels = {i: [] for i in range(n)}\n",
    "        self.max_cards = max_cards\n",
    "        self.n_levels=n\n",
    "\n",
    "    def onboard_card(self, _id,level=0):\n",
    "        if level >= self.n_levels:\n",
    "            print(f'this vokibox has only {self.n_levels} levels, so you may specify only up to level index {self.n_levels-1}. you wanted to onboard a card to level index {level}, ')\n",
    "            return\n",
    "        \n",
    "        if self.n_ids() >= self.max_cards:\n",
    "            print(f'cannot onboard card {_id} as the maximum number of cards ({self.n_ids}) is already at the maximum allowed cards.')\n",
    "            return\n",
    "        \n",
    "        if isinstance(_id, pd.DataFrame):\n",
    "            _id = card_id(_id)\n",
    "            \n",
    "        if not _id in [c_id for lvl in self.levels.values() for c_id in lvl]:\n",
    "            self.levels[level].append(_id)\n",
    "        else:\n",
    "            print(f'card id {_id} already in the box ')\n",
    "\n",
    "    def attempt_card_in_level(self, lvl, df):\n",
    "        # attempt the next card in vokibox level i\n",
    "        if len(self.levels) <= lvl:\n",
    "            print(f'You cannot attempt level {lvl} as there are only levels 0-{len(self.levels) - 1}')\n",
    "            return False\n",
    "        if len(self.levels[lvl]) == 0:\n",
    "            print(f'vokibox lvl {lvl} is empty. you need to fill it first')\n",
    "            return\n",
    "\n",
    "        top_card_id = self.levels[lvl].pop(0)\n",
    "\n",
    "        card, result = attempt(top_card_id, df)\n",
    "        \n",
    "        if result:\n",
    "            self.advance(card, lvl)\n",
    "        else:\n",
    "            self.onboard_card(top_card_id)\n",
    "\n",
    "    def advance(self, card, lvl):\n",
    "        if lvl < len(self.levels) - 1:\n",
    "            self.levels[lvl + 1].append(card['id'])\n",
    "        else:\n",
    "            print(f'congrats! card \\\"{card[\"french_phrase\"]}\\\" made it through the vokibox!')\n",
    "\n",
    "    def n_ids(self):\n",
    "        return len([_id for level in self.levels.values() for _id in level])\n",
    "\n",
    "    def __repr__(self):\n",
    "        strlist = []\n",
    "        for (i, lvl) in self.levels.items():\n",
    "            strlist.append(f'level {i}')\n",
    "            for id_ in lvl:\n",
    "                strlist.append(f'    {id_}')\n",
    "\n",
    "        return '\\n'.join(strlist)\n",
    "\n",
    "\n",
    "def box_db_load(box_db_file):\n",
    "    with open(box_db_file, 'rb') as fh:\n",
    "        return pickle.load(fh)\n",
    "\n",
    "\n",
    "def box_db_save(box_db_file):\n",
    "    with open(box_db_file, 'wb') as fh:\n",
    "        pickle.dump(fh)\n",
    "\n",
    "\n",
    "def card_from_id(ids, df):\n",
    "    if not isinstance(ids, list):\n",
    "        ids = [ids]\n",
    "    return_cards = df[df['id'].isin(ids)]\n",
    "    if len(return_cards)==0:\n",
    "        print(f'ids {ids} not existing in df')\n",
    "        \n",
    "    return return_cards.iloc[0].to_dict()\n",
    "\n",
    "\n",
    "def attempt(id_, df):\n",
    "    card = card_from_id(id_, df)\n",
    "    now = datetime.datetime.now().replace(microsecond=0)\n",
    "    guess = input(f'{card[\"german_phrase\"]}')\n",
    "    result = check_attempt(card, guess)  # true/False\n",
    "\n",
    "    card['attempt_history'] = card['attempt_history'].append(pd.DataFrame({'time': [now],\n",
    "                                                                           'result': [result],\n",
    "                                                                           'answer': [guess]}))\n",
    "    if result:\n",
    "        card['streak'] += 1\n",
    "    else:\n",
    "        card['streak'] = np.floor(card['streak'] / 2)\n",
    "    return card, result\n",
    "\n",
    "\n",
    "def check_attempt(card, guess):\n",
    "    if guess == card['french_phrase']:\n",
    "        print('correct!')\n",
    "        return True\n",
    "    text = input(f'type \"yes\" if you think they match:\\n {guess} \\n {card[\"french_phrase\"]}\\n')\n",
    "    if text == 'yes':\n",
    "        return True\n",
    "    return False"
   ]
  },
  {
   "cell_type": "code",
   "execution_count": 211,
   "id": "311081cd-c913-48ce-8030-08cd582457c9",
   "metadata": {},
   "outputs": [
    {
     "data": {
      "text/plain": [
       "level 0\n",
       "    442165381189763710\n",
       "level 1\n",
       "level 2\n",
       "level 3\n",
       "level 4\n",
       "    -4980411815809341467"
      ]
     },
     "execution_count": 211,
     "metadata": {},
     "output_type": "execute_result"
    }
   ],
   "source": [
    "# some testing\n",
    "card_1 = pd.DataFrame({'french_phrase': ['partout'],\n",
    "                            'french_sentences': [['Dans la rue du Sentier, la mode est partout.']],\n",
    "                            'french_comments': [[]],\n",
    "                            'german_phrase': ['überall'],\n",
    "                            'german_sentences': [[]],\n",
    "                            'german_comments': [[]],\n",
    "                            'created': [datetime.datetime.now().replace(microsecond=0)],\n",
    "                            'attempt_history': [pd.DataFrame({'time': pd.Series(dtype='datetime64[ns]'),\n",
    "                                                             'result': pd.Series(dtype='bool'),\n",
    "                                                             'answer': pd.Series(dtype='str')})],\n",
    "                            'streak': [0],\n",
    "                            'id': [hash('partout')]\n",
    "                            })\n",
    "\n",
    "card_2 = pd.DataFrame({'french_phrase': ['la rue'],\n",
    "                            'french_sentences': [['Dans la rue du Sentier, la mode est partout.']],\n",
    "                            'french_comments': [[]],\n",
    "                            'german_phrase': ['Strasse'],\n",
    "                            'german_sentences': [[]],\n",
    "                            'german_comments': [[]],\n",
    "                            'created': [datetime.datetime.now().replace(microsecond=0)],\n",
    "                            'attempt_history': [pd.DataFrame({'time': pd.Series(dtype='datetime64[ns]'),\n",
    "                                                             'result': pd.Series(dtype='bool'),\n",
    "                                                             'answer': pd.Series(dtype='str')})],\n",
    "                            'streak': [0],\n",
    "                            'id': [hash('la rue')]\n",
    "                            })\n",
    "df = pd.concat([card_1,card_2])\n",
    "myvokibox = vokibox(5)\n",
    "myvokibox.onboard_card(card_1,level=4)\n",
    "myvokibox.onboard_card(card_2)\n",
    "myvokibox"
   ]
  },
  {
   "cell_type": "code",
   "execution_count": 213,
   "id": "bdf2c69c-2ba1-44d7-9fd4-51a7f6323d04",
   "metadata": {},
   "outputs": [
    {
     "name": "stdin",
     "output_type": "stream",
     "text": [
      "überall partout\n"
     ]
    },
    {
     "name": "stdout",
     "output_type": "stream",
     "text": [
      "correct!\n",
      "congrats! card \"partout\" made it through the vokibox!\n"
     ]
    }
   ],
   "source": [
    "myvokibox.attempt_card_in_level(4,df);"
   ]
  },
  {
   "cell_type": "code",
   "execution_count": 189,
   "id": "c8cb4aaa-734a-47ac-bd18-e635d354a1aa",
   "metadata": {},
   "outputs": [
    {
     "name": "stdin",
     "output_type": "stream",
     "text": [
      "überall partout\n"
     ]
    },
    {
     "name": "stdout",
     "output_type": "stream",
     "text": [
      "correct!\n"
     ]
    }
   ],
   "source": [
    "myvokibox.attempt_card_in_level(0,df)"
   ]
  },
  {
   "cell_type": "code",
   "execution_count": 170,
   "id": "ee8ffb57-c6b4-420a-9e56-a6d8038f6acb",
   "metadata": {},
   "outputs": [
    {
     "data": {
      "text/plain": [
       "level 0\n",
       "    442165381189763710\n",
       "level 1\n",
       "level 2\n",
       "level 3\n",
       "level 4\n",
       "level 5\n",
       "    -4980411815809341467"
      ]
     },
     "execution_count": 170,
     "metadata": {},
     "output_type": "execute_result"
    }
   ],
   "source": [
    "myvokibox"
   ]
  },
  {
   "cell_type": "code",
   "execution_count": 165,
   "id": "b9b00a7b-8382-4d88-9e33-cf49bcd6f24a",
   "metadata": {},
   "outputs": [
    {
     "name": "stdout",
     "output_type": "stream",
     "text": [
      "vokibox lvl 1 is empty. you need to fill it first\n"
     ]
    }
   ],
   "source": [
    "myvokibox.attempt_card_in_level(1,df)"
   ]
  },
  {
   "cell_type": "code",
   "execution_count": 166,
   "id": "625dd71d-1bb5-4b02-aae4-9e4d9485b7f6",
   "metadata": {},
   "outputs": [
    {
     "name": "stdin",
     "output_type": "stream",
     "text": [
      "überall partout\n"
     ]
    },
    {
     "name": "stdout",
     "output_type": "stream",
     "text": [
      "correct!\n"
     ]
    }
   ],
   "source": [
    "myvokibox.attempt_card_in_level(2,df)"
   ]
  },
  {
   "cell_type": "code",
   "execution_count": 167,
   "id": "b42947cb-f504-4454-ab14-3c82ac4c7963",
   "metadata": {},
   "outputs": [
    {
     "name": "stdin",
     "output_type": "stream",
     "text": [
      "überall partout\n"
     ]
    },
    {
     "name": "stdout",
     "output_type": "stream",
     "text": [
      "correct!\n"
     ]
    }
   ],
   "source": [
    "myvokibox.attempt_card_in_level(3,df)"
   ]
  },
  {
   "cell_type": "code",
   "execution_count": 169,
   "id": "da394cd6-5d10-41d0-b754-0ac36532eedd",
   "metadata": {},
   "outputs": [
    {
     "name": "stdin",
     "output_type": "stream",
     "text": [
      "überall partout\n"
     ]
    },
    {
     "name": "stdout",
     "output_type": "stream",
     "text": [
      "correct!\n"
     ]
    }
   ],
   "source": [
    "myvokibox.attempt_card_in_level(4,df)"
   ]
  },
  {
   "cell_type": "code",
   "execution_count": 171,
   "id": "0f269960-3c13-4958-9f6d-36a60ddb8d17",
   "metadata": {},
   "outputs": [
    {
     "name": "stdin",
     "output_type": "stream",
     "text": [
      "überall partout\n"
     ]
    },
    {
     "name": "stdout",
     "output_type": "stream",
     "text": [
      "correct!\n",
      "congrats! card partout made it through thevokibox!\n"
     ]
    }
   ],
   "source": [
    "myvokibox.attempt_card_in_level(5,df)"
   ]
  },
  {
   "cell_type": "code",
   "execution_count": 172,
   "id": "9f2729c9-cb1c-4ace-b3d9-dbb9d6119d83",
   "metadata": {},
   "outputs": [
    {
     "data": {
      "text/plain": [
       "level 0\n",
       "    442165381189763710\n",
       "level 1\n",
       "level 2\n",
       "level 3\n",
       "level 4\n",
       "level 5"
      ]
     },
     "execution_count": 172,
     "metadata": {},
     "output_type": "execute_result"
    }
   ],
   "source": [
    "myvokibox"
   ]
  },
  {
   "cell_type": "code",
   "execution_count": 140,
   "id": "22bebbc3-e168-4517-92dd-c4bb11ecccf7",
   "metadata": {
    "jupyter": {
     "source_hidden": true
    },
    "tags": []
   },
   "outputs": [],
   "source": [
    "class card:\n",
    "    # a class for vocabulary cards\n",
    "\n",
    "    def __init__(self, props):\n",
    "        # the basic card that has typical properties of a vocabulary card\n",
    "        self.french_phrase = props['french']['phrase']\n",
    "        self.french_sentences =      props['french']['sentences']\n",
    "        self.french_comments = props['french']['comments']\n",
    "        self.german_phrase = props['german']['phrase']\n",
    "        self.german_sentences = props['german']['sentences']\n",
    "        self.german_comments = props['german']['comments']\n",
    "\n",
    "        self.created = datetime.datetime.now().replace(microsecond=0)\n",
    "        self.attempt_history = pd.DataFrame({'time': pd.Series(dtype='datetime64[ns]'),\n",
    "                                             'result': pd.Series(dtype='bool'),\n",
    "                                             'answer': pd.Series(dtype='str')})\n",
    "        self.id = hash(self.french_phrase)\n",
    "        self.streak = 0\n",
    "\n",
    "    def attempt(self, guess):\n",
    "        now = datetime.datetime.now().replace(microsecond=0)\n",
    "        result = self.check_attempt(guess) #true/False\n",
    "\n",
    "        self.attempt_history = self.attempt_history.append(pd.DataFrame({'time': [now], \n",
    "                                                                        'result': [result], \n",
    "                                                                        'answer': [guess]}))\n",
    "        if result:\n",
    "            self.streak += 1\n",
    "        else:\n",
    "            self.streak = np.floor(self.streak/2)\n",
    "\n",
    "    def check_attempt(self,answer):\n",
    "        if answer == self.french_phrase:\n",
    "            return True\n",
    "        text = input(f'type \"yes\" if you think they match:\\n {answer} \\n {self.french_phrase}\\n')\n",
    "        if text == 'yes':\n",
    "            return True\n",
    "        return False\n",
    "    \n",
    "    def __repr__(self):\n",
    "        \n",
    "        if len(self.attempt_history)>0:\n",
    "            last_attempt = ''\n",
    "        str_ = f\"\"\"voki card \n",
    "        {self.id}\n",
    "        french: {self.french_phrase}\n",
    "        german: {self.german_phrase} \n",
    "        last_attempt: \"\"\"\n",
    "        return str_\n",
    "    \n",
    "    \n",
    "\n",
    "\n",
    "    @staticmethod\n",
    "    def get_card_from_db(db,id):\n",
    "        pass\n",
    "    \n",
    "\n",
    "        \n",
    "    \n",
    "\n",
    "\n",
    "\n",
    "        \n",
    "\n",
    "        \n",
    "def main(dbfile):\n",
    "    #1 laod database\n",
    "    #2 run program\n",
    "    #3 save databas\n",
    "    pass\n",
    "\n"
   ]
  },
  {
   "cell_type": "code",
   "execution_count": 185,
   "id": "4db6107c-9839-4e20-8abe-8c7d31b3e194",
   "metadata": {},
   "outputs": [
    {
     "ename": "IndexError",
     "evalue": "single positional indexer is out-of-bounds",
     "output_type": "error",
     "traceback": [
      "\u001b[1;31m---------------------------------------------------------------------------\u001b[0m",
      "\u001b[1;31mIndexError\u001b[0m                                Traceback (most recent call last)",
      "\u001b[1;32m<ipython-input-185-e18eb4d2327d>\u001b[0m in \u001b[0;36m<module>\u001b[1;34m\u001b[0m\n\u001b[1;32m----> 1\u001b[1;33m \u001b[0mmycard\u001b[0m \u001b[1;33m=\u001b[0m \u001b[0mcard_from_id\u001b[0m\u001b[1;33m(\u001b[0m\u001b[1;36m4980411815809341467\u001b[0m\u001b[1;33m,\u001b[0m\u001b[0mdf\u001b[0m\u001b[1;33m)\u001b[0m\u001b[1;33m\u001b[0m\u001b[1;33m\u001b[0m\u001b[0m\n\u001b[0m",
      "\u001b[1;32m<ipython-input-173-74804daddfde>\u001b[0m in \u001b[0;36mcard_from_id\u001b[1;34m(ids, df)\u001b[0m\n\u001b[0;32m     75\u001b[0m     \u001b[1;32mif\u001b[0m \u001b[1;32mnot\u001b[0m \u001b[0misinstance\u001b[0m\u001b[1;33m(\u001b[0m\u001b[0mids\u001b[0m\u001b[1;33m,\u001b[0m \u001b[0mlist\u001b[0m\u001b[1;33m)\u001b[0m\u001b[1;33m:\u001b[0m\u001b[1;33m\u001b[0m\u001b[1;33m\u001b[0m\u001b[0m\n\u001b[0;32m     76\u001b[0m         \u001b[0mids\u001b[0m \u001b[1;33m=\u001b[0m \u001b[1;33m[\u001b[0m\u001b[0mids\u001b[0m\u001b[1;33m]\u001b[0m\u001b[1;33m\u001b[0m\u001b[1;33m\u001b[0m\u001b[0m\n\u001b[1;32m---> 77\u001b[1;33m     \u001b[1;32mreturn\u001b[0m \u001b[0mdf\u001b[0m\u001b[1;33m[\u001b[0m\u001b[0mdf\u001b[0m\u001b[1;33m[\u001b[0m\u001b[1;34m'id'\u001b[0m\u001b[1;33m]\u001b[0m\u001b[1;33m.\u001b[0m\u001b[0misin\u001b[0m\u001b[1;33m(\u001b[0m\u001b[0mids\u001b[0m\u001b[1;33m)\u001b[0m\u001b[1;33m]\u001b[0m\u001b[1;33m.\u001b[0m\u001b[0miloc\u001b[0m\u001b[1;33m[\u001b[0m\u001b[1;36m0\u001b[0m\u001b[1;33m]\u001b[0m\u001b[1;33m.\u001b[0m\u001b[0mto_dict\u001b[0m\u001b[1;33m(\u001b[0m\u001b[1;33m)\u001b[0m\u001b[1;33m\u001b[0m\u001b[1;33m\u001b[0m\u001b[0m\n\u001b[0m\u001b[0;32m     78\u001b[0m \u001b[1;33m\u001b[0m\u001b[0m\n\u001b[0;32m     79\u001b[0m \u001b[1;33m\u001b[0m\u001b[0m\n",
      "\u001b[1;32mC:\\ProgramData\\Anaconda3\\envs\\voki\\lib\\site-packages\\pandas\\core\\indexing.py\u001b[0m in \u001b[0;36m__getitem__\u001b[1;34m(self, key)\u001b[0m\n\u001b[0;32m    893\u001b[0m \u001b[1;33m\u001b[0m\u001b[0m\n\u001b[0;32m    894\u001b[0m             \u001b[0mmaybe_callable\u001b[0m \u001b[1;33m=\u001b[0m \u001b[0mcom\u001b[0m\u001b[1;33m.\u001b[0m\u001b[0mapply_if_callable\u001b[0m\u001b[1;33m(\u001b[0m\u001b[0mkey\u001b[0m\u001b[1;33m,\u001b[0m \u001b[0mself\u001b[0m\u001b[1;33m.\u001b[0m\u001b[0mobj\u001b[0m\u001b[1;33m)\u001b[0m\u001b[1;33m\u001b[0m\u001b[1;33m\u001b[0m\u001b[0m\n\u001b[1;32m--> 895\u001b[1;33m             \u001b[1;32mreturn\u001b[0m \u001b[0mself\u001b[0m\u001b[1;33m.\u001b[0m\u001b[0m_getitem_axis\u001b[0m\u001b[1;33m(\u001b[0m\u001b[0mmaybe_callable\u001b[0m\u001b[1;33m,\u001b[0m \u001b[0maxis\u001b[0m\u001b[1;33m=\u001b[0m\u001b[0maxis\u001b[0m\u001b[1;33m)\u001b[0m\u001b[1;33m\u001b[0m\u001b[1;33m\u001b[0m\u001b[0m\n\u001b[0m\u001b[0;32m    896\u001b[0m \u001b[1;33m\u001b[0m\u001b[0m\n\u001b[0;32m    897\u001b[0m     \u001b[1;32mdef\u001b[0m \u001b[0m_is_scalar_access\u001b[0m\u001b[1;33m(\u001b[0m\u001b[0mself\u001b[0m\u001b[1;33m,\u001b[0m \u001b[0mkey\u001b[0m\u001b[1;33m:\u001b[0m \u001b[0mTuple\u001b[0m\u001b[1;33m)\u001b[0m\u001b[1;33m:\u001b[0m\u001b[1;33m\u001b[0m\u001b[1;33m\u001b[0m\u001b[0m\n",
      "\u001b[1;32mC:\\ProgramData\\Anaconda3\\envs\\voki\\lib\\site-packages\\pandas\\core\\indexing.py\u001b[0m in \u001b[0;36m_getitem_axis\u001b[1;34m(self, key, axis)\u001b[0m\n\u001b[0;32m   1499\u001b[0m \u001b[1;33m\u001b[0m\u001b[0m\n\u001b[0;32m   1500\u001b[0m             \u001b[1;31m# validate the location\u001b[0m\u001b[1;33m\u001b[0m\u001b[1;33m\u001b[0m\u001b[0m\n\u001b[1;32m-> 1501\u001b[1;33m             \u001b[0mself\u001b[0m\u001b[1;33m.\u001b[0m\u001b[0m_validate_integer\u001b[0m\u001b[1;33m(\u001b[0m\u001b[0mkey\u001b[0m\u001b[1;33m,\u001b[0m \u001b[0maxis\u001b[0m\u001b[1;33m)\u001b[0m\u001b[1;33m\u001b[0m\u001b[1;33m\u001b[0m\u001b[0m\n\u001b[0m\u001b[0;32m   1502\u001b[0m \u001b[1;33m\u001b[0m\u001b[0m\n\u001b[0;32m   1503\u001b[0m             \u001b[1;32mreturn\u001b[0m \u001b[0mself\u001b[0m\u001b[1;33m.\u001b[0m\u001b[0mobj\u001b[0m\u001b[1;33m.\u001b[0m\u001b[0m_ixs\u001b[0m\u001b[1;33m(\u001b[0m\u001b[0mkey\u001b[0m\u001b[1;33m,\u001b[0m \u001b[0maxis\u001b[0m\u001b[1;33m=\u001b[0m\u001b[0maxis\u001b[0m\u001b[1;33m)\u001b[0m\u001b[1;33m\u001b[0m\u001b[1;33m\u001b[0m\u001b[0m\n",
      "\u001b[1;32mC:\\ProgramData\\Anaconda3\\envs\\voki\\lib\\site-packages\\pandas\\core\\indexing.py\u001b[0m in \u001b[0;36m_validate_integer\u001b[1;34m(self, key, axis)\u001b[0m\n\u001b[0;32m   1442\u001b[0m         \u001b[0mlen_axis\u001b[0m \u001b[1;33m=\u001b[0m \u001b[0mlen\u001b[0m\u001b[1;33m(\u001b[0m\u001b[0mself\u001b[0m\u001b[1;33m.\u001b[0m\u001b[0mobj\u001b[0m\u001b[1;33m.\u001b[0m\u001b[0m_get_axis\u001b[0m\u001b[1;33m(\u001b[0m\u001b[0maxis\u001b[0m\u001b[1;33m)\u001b[0m\u001b[1;33m)\u001b[0m\u001b[1;33m\u001b[0m\u001b[1;33m\u001b[0m\u001b[0m\n\u001b[0;32m   1443\u001b[0m         \u001b[1;32mif\u001b[0m \u001b[0mkey\u001b[0m \u001b[1;33m>=\u001b[0m \u001b[0mlen_axis\u001b[0m \u001b[1;32mor\u001b[0m \u001b[0mkey\u001b[0m \u001b[1;33m<\u001b[0m \u001b[1;33m-\u001b[0m\u001b[0mlen_axis\u001b[0m\u001b[1;33m:\u001b[0m\u001b[1;33m\u001b[0m\u001b[1;33m\u001b[0m\u001b[0m\n\u001b[1;32m-> 1444\u001b[1;33m             \u001b[1;32mraise\u001b[0m \u001b[0mIndexError\u001b[0m\u001b[1;33m(\u001b[0m\u001b[1;34m\"single positional indexer is out-of-bounds\"\u001b[0m\u001b[1;33m)\u001b[0m\u001b[1;33m\u001b[0m\u001b[1;33m\u001b[0m\u001b[0m\n\u001b[0m\u001b[0;32m   1445\u001b[0m \u001b[1;33m\u001b[0m\u001b[0m\n\u001b[0;32m   1446\u001b[0m     \u001b[1;31m# -------------------------------------------------------------------\u001b[0m\u001b[1;33m\u001b[0m\u001b[1;33m\u001b[0m\u001b[0m\n",
      "\u001b[1;31mIndexError\u001b[0m: single positional indexer is out-of-bounds"
     ]
    }
   ],
   "source": [
    "mycard = card_from_id(4980411815809341467,df)"
   ]
  },
  {
   "cell_type": "code",
   "execution_count": 177,
   "id": "3ed339fe-8224-4c82-98f0-a98b94575c05",
   "metadata": {},
   "outputs": [
    {
     "data": {
      "text/plain": [
       "{'french_phrase': 'la rue',\n",
       " 'french_sentences': ['Dans la rue du Sentier, la mode est partout.'],\n",
       " 'french_comments': [],\n",
       " 'german_phrase': 'Strasse',\n",
       " 'german_sentences': [],\n",
       " 'german_comments': [],\n",
       " 'created': Timestamp('2021-10-31 21:20:50'),\n",
       " 'attempt_history': Empty DataFrame\n",
       " Columns: [time, result, answer]\n",
       " Index: [],\n",
       " 'streak': 0,\n",
       " 'id': 442165381189763710}"
      ]
     },
     "execution_count": 177,
     "metadata": {},
     "output_type": "execute_result"
    }
   ],
   "source": [
    "mycard"
   ]
  },
  {
   "cell_type": "code",
   "execution_count": 179,
   "id": "62844436-dd60-4a9c-8447-7328ed22d1aa",
   "metadata": {},
   "outputs": [
    {
     "data": {
      "text/html": [
       "<div>\n",
       "<style scoped>\n",
       "    .dataframe tbody tr th:only-of-type {\n",
       "        vertical-align: middle;\n",
       "    }\n",
       "\n",
       "    .dataframe tbody tr th {\n",
       "        vertical-align: top;\n",
       "    }\n",
       "\n",
       "    .dataframe thead th {\n",
       "        text-align: right;\n",
       "    }\n",
       "</style>\n",
       "<table border=\"1\" class=\"dataframe\">\n",
       "  <thead>\n",
       "    <tr style=\"text-align: right;\">\n",
       "      <th></th>\n",
       "      <th>french_phrase</th>\n",
       "      <th>french_sentences</th>\n",
       "      <th>french_comments</th>\n",
       "      <th>german_phrase</th>\n",
       "      <th>german_sentences</th>\n",
       "      <th>german_comments</th>\n",
       "      <th>created</th>\n",
       "      <th>attempt_history</th>\n",
       "      <th>streak</th>\n",
       "      <th>id</th>\n",
       "    </tr>\n",
       "  </thead>\n",
       "  <tbody>\n",
       "    <tr>\n",
       "      <th>0</th>\n",
       "      <td>la rue</td>\n",
       "      <td>[Dans la rue du Sentier, la mode est partout.]</td>\n",
       "      <td>[]</td>\n",
       "      <td>Strasse</td>\n",
       "      <td>[]</td>\n",
       "      <td>[]</td>\n",
       "      <td>2021-10-31 21:20:50</td>\n",
       "      <td>Empty DataFrame\n",
       "Columns: [time, result, answer...</td>\n",
       "      <td>0</td>\n",
       "      <td>442165381189763710</td>\n",
       "    </tr>\n",
       "  </tbody>\n",
       "</table>\n",
       "</div>"
      ],
      "text/plain": [
       "  french_phrase                                french_sentences  \\\n",
       "0        la rue  [Dans la rue du Sentier, la mode est partout.]   \n",
       "\n",
       "  french_comments german_phrase german_sentences german_comments  \\\n",
       "0              []       Strasse               []              []   \n",
       "\n",
       "              created                                    attempt_history  \\\n",
       "0 2021-10-31 21:20:50  Empty DataFrame\n",
       "Columns: [time, result, answer...   \n",
       "\n",
       "   streak                  id  \n",
       "0       0  442165381189763710  "
      ]
     },
     "execution_count": 179,
     "metadata": {},
     "output_type": "execute_result"
    }
   ],
   "source": [
    "pd.DataFrame({key: [value] for key,value in mycard.items()})"
   ]
  },
  {
   "cell_type": "code",
   "execution_count": 170,
   "id": "f9805b0b-8c33-4f87-b3f5-92bf7c1568a6",
   "metadata": {},
   "outputs": [],
   "source": [
    "root = Path.cwd()\n",
    "data_dir = root.parent / 'data'\n",
    "voki_db_file = data_dir / 'voki_db.pkl'\n",
    "box_db_file = data_dir / 'box_db.pkl'\n",
    "\n",
    "# main()\n",
    "\n",
    "# df_voki = pd.read_pickle(voki_db_file)\n",
    "# voki_box = box_db_load(box_db_file)"
   ]
  },
  {
   "cell_type": "code",
   "execution_count": 161,
   "id": "1195d568-fd85-4929-90aa-b686a1cc1dc9",
   "metadata": {},
   "outputs": [
    {
     "data": {
      "text/plain": [
       "level 0\n",
       "    5116320665103601376\n",
       "    463857425755945451\n",
       "level 1\n",
       "level 2\n",
       "level 3\n",
       "level 4\n",
       "level 5"
      ]
     },
     "execution_count": 161,
     "metadata": {},
     "output_type": "execute_result"
    }
   ],
   "source": [
    "voki_box"
   ]
  },
  {
   "cell_type": "code",
   "execution_count": 162,
   "id": "ae6994ac-36f4-4430-a352-b93460bd65e4",
   "metadata": {},
   "outputs": [
    {
     "data": {
      "text/html": [
       "<div>\n",
       "<style scoped>\n",
       "    .dataframe tbody tr th:only-of-type {\n",
       "        vertical-align: middle;\n",
       "    }\n",
       "\n",
       "    .dataframe tbody tr th {\n",
       "        vertical-align: top;\n",
       "    }\n",
       "\n",
       "    .dataframe thead th {\n",
       "        text-align: right;\n",
       "    }\n",
       "</style>\n",
       "<table border=\"1\" class=\"dataframe\">\n",
       "  <thead>\n",
       "    <tr style=\"text-align: right;\">\n",
       "      <th></th>\n",
       "      <th>french_phrase</th>\n",
       "      <th>french_sentences</th>\n",
       "      <th>french_comments</th>\n",
       "      <th>german_phrase</th>\n",
       "      <th>german_sentences</th>\n",
       "      <th>created</th>\n",
       "      <th>attempt_history</th>\n",
       "      <th>id</th>\n",
       "      <th>streak</th>\n",
       "    </tr>\n",
       "  </thead>\n",
       "  <tbody>\n",
       "    <tr>\n",
       "      <th>0</th>\n",
       "      <td>partout</td>\n",
       "      <td>[Dans la rue du Sentier, la mode est partout.]</td>\n",
       "      <td>[]</td>\n",
       "      <td>überall</td>\n",
       "      <td>[]</td>\n",
       "      <td>2021-10-31 13:48:03</td>\n",
       "      <td>Empty DataFrame\n",
       "Columns: [time, result, answer...</td>\n",
       "      <td>463857425755945451</td>\n",
       "      <td>0</td>\n",
       "    </tr>\n",
       "    <tr>\n",
       "      <th>0</th>\n",
       "      <td>la rue</td>\n",
       "      <td>[Julien habite dans la rue Daguerre.]</td>\n",
       "      <td>[]</td>\n",
       "      <td>Strasse</td>\n",
       "      <td>[]</td>\n",
       "      <td>2021-10-31 13:48:04</td>\n",
       "      <td>Empty DataFrame\n",
       "Columns: [time, result, answer...</td>\n",
       "      <td>5116320665103601376</td>\n",
       "      <td>0</td>\n",
       "    </tr>\n",
       "  </tbody>\n",
       "</table>\n",
       "</div>"
      ],
      "text/plain": [
       "  french_phrase                                french_sentences  \\\n",
       "0       partout  [Dans la rue du Sentier, la mode est partout.]   \n",
       "0        la rue           [Julien habite dans la rue Daguerre.]   \n",
       "\n",
       "  french_comments german_phrase german_sentences             created  \\\n",
       "0              []       überall               [] 2021-10-31 13:48:03   \n",
       "0              []       Strasse               [] 2021-10-31 13:48:04   \n",
       "\n",
       "                                     attempt_history                   id  \\\n",
       "0  Empty DataFrame\n",
       "Columns: [time, result, answer...   463857425755945451   \n",
       "0  Empty DataFrame\n",
       "Columns: [time, result, answer...  5116320665103601376   \n",
       "\n",
       "   streak  \n",
       "0       0  \n",
       "0       0  "
      ]
     },
     "execution_count": 162,
     "metadata": {},
     "output_type": "execute_result"
    }
   ],
   "source": [
    "df_voki"
   ]
  },
  {
   "cell_type": "code",
   "execution_count": 115,
   "id": "b7fab10f-67d6-4410-a8d5-6a760d3da916",
   "metadata": {},
   "outputs": [
    {
     "data": {
      "text/plain": [
       "level 0\n",
       "    5116320665103601376\n",
       "    463857425755945451\n",
       "level 1\n",
       "level 2\n",
       "level 3\n",
       "level 4\n",
       "level 5"
      ]
     },
     "execution_count": 115,
     "metadata": {},
     "output_type": "execute_result"
    }
   ],
   "source": [
    "my_vbox.onboard_card(voki_card1.id)\n",
    "my_vbox"
   ]
  },
  {
   "cell_type": "code",
   "execution_count": 121,
   "id": "24294294-1c5c-4a24-a9be-e0869e185000",
   "metadata": {},
   "outputs": [
    {
     "data": {
      "text/plain": [
       "level 0\n",
       "    5116320665103601376\n",
       "    463857425755945451\n",
       "level 1\n",
       "level 2\n",
       "level 3\n",
       "level 4\n",
       "level 5"
      ]
     },
     "execution_count": 121,
     "metadata": {},
     "output_type": "execute_result"
    }
   ],
   "source": [
    "box_db_load(box_db_file)"
   ]
  },
  {
   "cell_type": "code",
   "execution_count": 3,
   "id": "ea0d94c7-ed6e-4dea-aefc-ddfd7b2e6c6a",
   "metadata": {},
   "outputs": [],
   "source": [
    "card_1_dict = {'french_phrase': 'partout', \n",
    "                'french_sentences': ['Dans la rue du Sentier, la mode est partout.'],\n",
    "                'french_comments':[],\n",
    "                'german_phrase' :'überall',\n",
    "                'german_sentences':[],\n",
    "                'german_comments':[],\n",
    "                'created': datetime.datetime.now().replace(microsecond=0),\n",
    "                'attempt_history' : pd.DataFrame({'time': pd.Series(dtype='datetime64[ns]'),\n",
    "                                             'result': pd.Series(dtype='bool'),\n",
    "                                             'answer': pd.Series(dtype='str')})\n",
    "                'streak': 0\n",
    "                'id': hash('partout')\n",
    "              }\n",
    "                     \n",
    "card_2_properties = {'french':{'phrase': 'la rue', \n",
    "                               'sentences': ['Julien habite dans la rue Daguerre.'],\n",
    "                               'comments':[]},\n",
    "                     'german':{'phrase':'Strasse',\n",
    "                               'sentences':[],\n",
    "                               'comments':[]},\n",
    "                    }   "
   ]
  },
  {
   "cell_type": "code",
   "execution_count": 168,
   "id": "9bc14304-f178-4005-8a6e-2a160c0c34d3",
   "metadata": {},
   "outputs": [
    {
     "data": {
      "text/plain": [
       "[[]]"
      ]
     },
     "execution_count": 168,
     "metadata": {},
     "output_type": "execute_result"
    }
   ],
   "source": [
    "a=[[]]\n",
    "a"
   ]
  },
  {
   "cell_type": "code",
   "execution_count": 4,
   "id": "47eecce0-b791-4196-af51-a8345551abb1",
   "metadata": {},
   "outputs": [
    {
     "data": {
      "text/plain": [
       "voki card \n",
       "        463857425755945451\n",
       "        french: partout\n",
       "        german: überall \n",
       "        last_attempt: "
      ]
     },
     "execution_count": 4,
     "metadata": {},
     "output_type": "execute_result"
    }
   ],
   "source": [
    "voki_card1=card(card_1_properties)\n",
    "voki_card1"
   ]
  },
  {
   "cell_type": "code",
   "execution_count": 5,
   "id": "2f089e0e-681e-4732-b494-3b9d21aba741",
   "metadata": {},
   "outputs": [
    {
     "data": {
      "text/plain": [
       "voki card \n",
       "        5116320665103601376\n",
       "        french: la rue\n",
       "        german: Strasse \n",
       "        last_attempt: "
      ]
     },
     "execution_count": 5,
     "metadata": {},
     "output_type": "execute_result"
    }
   ],
   "source": [
    "voki_card2=card(card_2_properties)\n",
    "voki_card2"
   ]
  },
  {
   "cell_type": "code",
   "execution_count": 91,
   "id": "4e14808b-5e1e-4bde-9674-f2557f91c9b6",
   "metadata": {},
   "outputs": [
    {
     "name": "stdin",
     "output_type": "stream",
     "text": [
      "type \"yes\" if you think they match:\n",
      " partout2 \n",
      " partout no\n"
     ]
    }
   ],
   "source": [
    "voki_card1.attempt('partout2'                  )\n"
   ]
  },
  {
   "cell_type": "code",
   "execution_count": 92,
   "id": "99b5d5c0-d080-425f-9fba-c53cee5abcb2",
   "metadata": {},
   "outputs": [
    {
     "data": {
      "text/html": [
       "<div>\n",
       "<style scoped>\n",
       "    .dataframe tbody tr th:only-of-type {\n",
       "        vertical-align: middle;\n",
       "    }\n",
       "\n",
       "    .dataframe tbody tr th {\n",
       "        vertical-align: top;\n",
       "    }\n",
       "\n",
       "    .dataframe thead th {\n",
       "        text-align: right;\n",
       "    }\n",
       "</style>\n",
       "<table border=\"1\" class=\"dataframe\">\n",
       "  <thead>\n",
       "    <tr style=\"text-align: right;\">\n",
       "      <th></th>\n",
       "      <th>time</th>\n",
       "      <th>result</th>\n",
       "      <th>answer</th>\n",
       "    </tr>\n",
       "  </thead>\n",
       "  <tbody>\n",
       "    <tr>\n",
       "      <th>0</th>\n",
       "      <td>2021-10-31 08:58:40</td>\n",
       "      <td>1.0</td>\n",
       "      <td>partout</td>\n",
       "    </tr>\n",
       "    <tr>\n",
       "      <th>0</th>\n",
       "      <td>2021-10-31 09:17:37</td>\n",
       "      <td>1.0</td>\n",
       "      <td>partout</td>\n",
       "    </tr>\n",
       "    <tr>\n",
       "      <th>0</th>\n",
       "      <td>2021-10-31 09:17:40</td>\n",
       "      <td>0.0</td>\n",
       "      <td>partout2</td>\n",
       "    </tr>\n",
       "  </tbody>\n",
       "</table>\n",
       "</div>"
      ],
      "text/plain": [
       "                 time  result    answer\n",
       "0 2021-10-31 08:58:40     1.0   partout\n",
       "0 2021-10-31 09:17:37     1.0   partout\n",
       "0 2021-10-31 09:17:40     0.0  partout2"
      ]
     },
     "execution_count": 92,
     "metadata": {},
     "output_type": "execute_result"
    }
   ],
   "source": [
    "voki_card1.attempt_history"
   ]
  },
  {
   "cell_type": "code",
   "execution_count": 16,
   "id": "1ce3f190-c91b-4afb-8050-8619a6d2442c",
   "metadata": {},
   "outputs": [
    {
     "ename": "TypeError",
     "evalue": "to_df() got an unexpected keyword argument 'index'",
     "output_type": "error",
     "traceback": [
      "\u001b[1;31m---------------------------------------------------------------------------\u001b[0m",
      "\u001b[1;31mTypeError\u001b[0m                                 Traceback (most recent call last)",
      "\u001b[1;32m<ipython-input-24-139fe0296a6d>\u001b[0m in \u001b[0;36m<module>\u001b[1;34m\u001b[0m\n\u001b[1;32m----> 1\u001b[1;33m \u001b[0mpd\u001b[0m\u001b[1;33m.\u001b[0m\u001b[0mDataFrame\u001b[0m\u001b[1;33m(\u001b[0m\u001b[0mvoki_card1\u001b[0m\u001b[1;33m.\u001b[0m\u001b[0mto_df\u001b[0m\u001b[1;33m(\u001b[0m\u001b[0mindex\u001b[0m\u001b[1;33m=\u001b[0m\u001b[1;32mFalse\u001b[0m\u001b[1;33m)\u001b[0m\u001b[1;33m)\u001b[0m\u001b[1;33m\u001b[0m\u001b[1;33m\u001b[0m\u001b[0m\n\u001b[0m",
      "\u001b[1;31mTypeError\u001b[0m: to_df() got an unexpected keyword argument 'index'"
     ]
    }
   ],
   "source": [
    "pd.DataFrame(voki_card1.to_df())"
   ]
  },
  {
   "cell_type": "code",
   "execution_count": 19,
   "id": "04f71e9d-00cb-4a9d-87b3-de405dcd686c",
   "metadata": {},
   "outputs": [],
   "source": [
    "df_list = [pd.DataFrame(voki_card1.to_df()),\n",
    "           pd.DataFrame(voki_card2.to_df())]\n",
    "df_voki = pd.concat(df_list)"
   ]
  },
  {
   "cell_type": "code",
   "execution_count": 32,
   "id": "b75dc13d-23ac-49b7-85c1-a06b30e47b10",
   "metadata": {},
   "outputs": [],
   "source": [
    "df_voki.to_pickle(voki_db_file)"
   ]
  },
  {
   "cell_type": "code",
   "execution_count": 26,
   "id": "f204c14a-b4b3-4338-a3ab-3de5c44f154a",
   "metadata": {},
   "outputs": [
    {
     "data": {
      "text/html": [
       "<div>\n",
       "<style scoped>\n",
       "    .dataframe tbody tr th:only-of-type {\n",
       "        vertical-align: middle;\n",
       "    }\n",
       "\n",
       "    .dataframe tbody tr th {\n",
       "        vertical-align: top;\n",
       "    }\n",
       "\n",
       "    .dataframe thead th {\n",
       "        text-align: right;\n",
       "    }\n",
       "</style>\n",
       "<table border=\"1\" class=\"dataframe\">\n",
       "  <thead>\n",
       "    <tr style=\"text-align: right;\">\n",
       "      <th></th>\n",
       "      <th>french_phrase</th>\n",
       "      <th>french_sentences</th>\n",
       "      <th>french_comments</th>\n",
       "      <th>german_phrase</th>\n",
       "      <th>german_sentences</th>\n",
       "      <th>created</th>\n",
       "      <th>attempt_history</th>\n",
       "      <th>id</th>\n",
       "      <th>streak</th>\n",
       "    </tr>\n",
       "  </thead>\n",
       "  <tbody>\n",
       "    <tr>\n",
       "      <th>0</th>\n",
       "      <td>partout</td>\n",
       "      <td>[Dans la rue du Sentier, la mode est partout.]</td>\n",
       "      <td>[]</td>\n",
       "      <td>überall</td>\n",
       "      <td>[]</td>\n",
       "      <td>2021-10-31 13:48:03</td>\n",
       "      <td>Empty DataFrame\n",
       "Columns: [time, result, answer...</td>\n",
       "      <td>463857425755945451</td>\n",
       "      <td>0</td>\n",
       "    </tr>\n",
       "    <tr>\n",
       "      <th>0</th>\n",
       "      <td>la rue</td>\n",
       "      <td>[Julien habite dans la rue Daguerre.]</td>\n",
       "      <td>[]</td>\n",
       "      <td>Strasse</td>\n",
       "      <td>[]</td>\n",
       "      <td>2021-10-31 13:48:04</td>\n",
       "      <td>Empty DataFrame\n",
       "Columns: [time, result, answer...</td>\n",
       "      <td>5116320665103601376</td>\n",
       "      <td>0</td>\n",
       "    </tr>\n",
       "  </tbody>\n",
       "</table>\n",
       "</div>"
      ],
      "text/plain": [
       "  french_phrase                                french_sentences  \\\n",
       "0       partout  [Dans la rue du Sentier, la mode est partout.]   \n",
       "0        la rue           [Julien habite dans la rue Daguerre.]   \n",
       "\n",
       "  french_comments german_phrase german_sentences             created  \\\n",
       "0              []       überall               [] 2021-10-31 13:48:03   \n",
       "0              []       Strasse               [] 2021-10-31 13:48:04   \n",
       "\n",
       "                                     attempt_history                   id  \\\n",
       "0  Empty DataFrame\n",
       "Columns: [time, result, answer...   463857425755945451   \n",
       "0  Empty DataFrame\n",
       "Columns: [time, result, answer...  5116320665103601376   \n",
       "\n",
       "   streak  \n",
       "0       0  \n",
       "0       0  "
      ]
     },
     "execution_count": 26,
     "metadata": {},
     "output_type": "execute_result"
    }
   ],
   "source": [
    "df_voki"
   ]
  },
  {
   "cell_type": "code",
   "execution_count": 35,
   "id": "8f3daac9-8956-4eb4-81d1-ae4c5cd2a7b4",
   "metadata": {},
   "outputs": [
    {
     "data": {
      "text/html": [
       "<div>\n",
       "<style scoped>\n",
       "    .dataframe tbody tr th:only-of-type {\n",
       "        vertical-align: middle;\n",
       "    }\n",
       "\n",
       "    .dataframe tbody tr th {\n",
       "        vertical-align: top;\n",
       "    }\n",
       "\n",
       "    .dataframe thead th {\n",
       "        text-align: right;\n",
       "    }\n",
       "</style>\n",
       "<table border=\"1\" class=\"dataframe\">\n",
       "  <thead>\n",
       "    <tr style=\"text-align: right;\">\n",
       "      <th></th>\n",
       "      <th>french_phrase</th>\n",
       "      <th>french_sentences</th>\n",
       "      <th>french_comments</th>\n",
       "      <th>german_phrase</th>\n",
       "      <th>german_sentences</th>\n",
       "      <th>created</th>\n",
       "      <th>attempt_history</th>\n",
       "      <th>id</th>\n",
       "      <th>streak</th>\n",
       "    </tr>\n",
       "  </thead>\n",
       "  <tbody>\n",
       "    <tr>\n",
       "      <th>0</th>\n",
       "      <td>partout</td>\n",
       "      <td>[Dans la rue du Sentier, la mode est partout.]</td>\n",
       "      <td>[]</td>\n",
       "      <td>überall</td>\n",
       "      <td>[]</td>\n",
       "      <td>2021-10-31 13:48:03</td>\n",
       "      <td>Empty DataFrame\n",
       "Columns: [time, result, answer...</td>\n",
       "      <td>463857425755945451</td>\n",
       "      <td>0</td>\n",
       "    </tr>\n",
       "    <tr>\n",
       "      <th>0</th>\n",
       "      <td>la rue</td>\n",
       "      <td>[Julien habite dans la rue Daguerre.]</td>\n",
       "      <td>[]</td>\n",
       "      <td>Strasse</td>\n",
       "      <td>[]</td>\n",
       "      <td>2021-10-31 13:48:04</td>\n",
       "      <td>Empty DataFrame\n",
       "Columns: [time, result, answer...</td>\n",
       "      <td>5116320665103601376</td>\n",
       "      <td>0</td>\n",
       "    </tr>\n",
       "  </tbody>\n",
       "</table>\n",
       "</div>"
      ],
      "text/plain": [
       "  french_phrase                                french_sentences  \\\n",
       "0       partout  [Dans la rue du Sentier, la mode est partout.]   \n",
       "0        la rue           [Julien habite dans la rue Daguerre.]   \n",
       "\n",
       "  french_comments german_phrase german_sentences             created  \\\n",
       "0              []       überall               [] 2021-10-31 13:48:03   \n",
       "0              []       Strasse               [] 2021-10-31 13:48:04   \n",
       "\n",
       "                                     attempt_history                   id  \\\n",
       "0  Empty DataFrame\n",
       "Columns: [time, result, answer...   463857425755945451   \n",
       "0  Empty DataFrame\n",
       "Columns: [time, result, answer...  5116320665103601376   \n",
       "\n",
       "   streak  \n",
       "0       0  \n",
       "0       0  "
      ]
     },
     "execution_count": 35,
     "metadata": {},
     "output_type": "execute_result"
    }
   ],
   "source": [
    "a=pd.read_pickle(voki_db_file)\n",
    "a"
   ]
  },
  {
   "cell_type": "code",
   "execution_count": null,
   "id": "4f640143-a72a-46f5-8af2-43459eb5ba39",
   "metadata": {},
   "outputs": [],
   "source": []
  }
 ],
 "metadata": {
  "kernelspec": {
   "display_name": "Python 3",
   "language": "python",
   "name": "python3"
  },
  "language_info": {
   "codemirror_mode": {
    "name": "ipython",
    "version": 3
   },
   "file_extension": ".py",
   "mimetype": "text/x-python",
   "name": "python",
   "nbconvert_exporter": "python",
   "pygments_lexer": "ipython3",
   "version": "3.9.7"
  }
 },
 "nbformat": 4,
 "nbformat_minor": 5
}
